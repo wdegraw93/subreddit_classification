{
 "cells": [
  {
   "cell_type": "markdown",
   "id": "327089a9-3a9a-4271-90c7-5599b355ce5f",
   "metadata": {},
   "source": [
    "## Time to model. Going to attempt to compare performance of 4 classifiers: Logistic Regression, kNN, Random Forest, and Naive Bayes. I will begin by using the classifiers with their default parameters and two different word vectorizers: `CountVectorizer` and `TfidfVectorizer`. As noted in the EDA I will be setting the `min_df` to 4 in order to limit the feature space. I will move forward with the better performing vectorizer with default classifier settings, and grid search from there. "
   ]
  },
  {
   "cell_type": "code",
   "execution_count": 64,
   "id": "658f42f5-407d-41eb-86d6-443fd13ff272",
   "metadata": {},
   "outputs": [],
   "source": [
    "import pandas as pd\n",
    "import numpy as np\n",
    "import matplotlib.pyplot as plt\n",
    "import pickle\n",
    "\n",
    "from sklearn.model_selection import train_test_split, GridSearchCV\n",
    "from sklearn.pipeline import Pipeline\n",
    "from sklearn.compose import ColumnTransformer\n",
    "from sklearn.preprocessing import StandardScaler, FunctionTransformer\n",
    "\n",
    "from sklearn.feature_extraction.text import CountVectorizer, TfidfVectorizer\n",
    "\n",
    "from sklearn.linear_model import LogisticRegression\n",
    "from sklearn.neighbors import KNeighborsClassifier\n",
    "from sklearn.ensemble import RandomForestClassifier\n",
    "from sklearn.naive_bayes import MultinomialNB\n",
    "\n",
    "from sklearn.metrics import ConfusionMatrixDisplay\n",
    "\n",
    "import sys\n",
    "if not sys.warnoptions:\n",
    "    import warnings\n",
    "    warnings.simplefilter(\"ignore\")"
   ]
  },
  {
   "cell_type": "markdown",
   "id": "1a848b71-f1ab-48a2-87be-7376a648c74a",
   "metadata": {},
   "source": [
    "#### Load data"
   ]
  },
  {
   "cell_type": "code",
   "execution_count": 195,
   "id": "4edcb368-7fd0-48f4-ad50-8c6aaf2d16cc",
   "metadata": {},
   "outputs": [
    {
     "data": {
      "text/html": [
       "<div>\n",
       "<style scoped>\n",
       "    .dataframe tbody tr th:only-of-type {\n",
       "        vertical-align: middle;\n",
       "    }\n",
       "\n",
       "    .dataframe tbody tr th {\n",
       "        vertical-align: top;\n",
       "    }\n",
       "\n",
       "    .dataframe thead th {\n",
       "        text-align: right;\n",
       "    }\n",
       "</style>\n",
       "<table border=\"1\" class=\"dataframe\">\n",
       "  <thead>\n",
       "    <tr style=\"text-align: right;\">\n",
       "      <th></th>\n",
       "      <th>subreddit</th>\n",
       "      <th>text</th>\n",
       "      <th>spacy</th>\n",
       "      <th>spacy_unique_word_count</th>\n",
       "    </tr>\n",
       "  </thead>\n",
       "  <tbody>\n",
       "    <tr>\n",
       "      <th>0</th>\n",
       "      <td>NoStupidQuestions</td>\n",
       "      <td>Are there laws on education in international w...</td>\n",
       "      <td>law on education in international water      s...</td>\n",
       "      <td>21</td>\n",
       "    </tr>\n",
       "    <tr>\n",
       "      <th>1</th>\n",
       "      <td>NoStupidQuestions</td>\n",
       "      <td>Why can't some people not eat pork?     Not be...</td>\n",
       "      <td>why not some people not eat pork      not beca...</td>\n",
       "      <td>19</td>\n",
       "    </tr>\n",
       "    <tr>\n",
       "      <th>2</th>\n",
       "      <td>NoStupidQuestions</td>\n",
       "      <td>Preference or Allergy     Just wondering, now ...</td>\n",
       "      <td>preference or Allergy      just wonder now whe...</td>\n",
       "      <td>25</td>\n",
       "    </tr>\n",
       "    <tr>\n",
       "      <th>3</th>\n",
       "      <td>NoStupidQuestions</td>\n",
       "      <td>Do I need to update card info on everything?  ...</td>\n",
       "      <td>need to update card info on      get a new car...</td>\n",
       "      <td>41</td>\n",
       "    </tr>\n",
       "    <tr>\n",
       "      <th>4</th>\n",
       "      <td>NoStupidQuestions</td>\n",
       "      <td>Any single ladies out there who wanna give an ...</td>\n",
       "      <td>any single lady out there give an ugly guy wit...</td>\n",
       "      <td>17</td>\n",
       "    </tr>\n",
       "    <tr>\n",
       "      <th>...</th>\n",
       "      <td>...</td>\n",
       "      <td>...</td>\n",
       "      <td>...</td>\n",
       "      <td>...</td>\n",
       "    </tr>\n",
       "    <tr>\n",
       "      <th>29591</th>\n",
       "      <td>AskReddit</td>\n",
       "      <td>Im on a mission, down vote me to hell.</td>\n",
       "      <td>m on a mission down vote to hell</td>\n",
       "      <td>8</td>\n",
       "    </tr>\n",
       "    <tr>\n",
       "      <th>29592</th>\n",
       "      <td>AskReddit</td>\n",
       "      <td>LGBTQ+ community of Reddit what would you say ...</td>\n",
       "      <td>LGBTQ+ community of Reddit say the symbol of s...</td>\n",
       "      <td>13</td>\n",
       "    </tr>\n",
       "    <tr>\n",
       "      <th>29593</th>\n",
       "      <td>AskReddit</td>\n",
       "      <td>What is the most beautiful message you have ev...</td>\n",
       "      <td>the most beautiful message ever receive</td>\n",
       "      <td>6</td>\n",
       "    </tr>\n",
       "    <tr>\n",
       "      <th>29594</th>\n",
       "      <td>AskReddit</td>\n",
       "      <td>Are politics really getting increasingly polar...</td>\n",
       "      <td>politic really increasingly polarize or social...</td>\n",
       "      <td>15</td>\n",
       "    </tr>\n",
       "    <tr>\n",
       "      <th>29595</th>\n",
       "      <td>AskReddit</td>\n",
       "      <td>what's the worst thing you can do at a ventril...</td>\n",
       "      <td>the bad thing do at a ventriloquist 's perform...</td>\n",
       "      <td>9</td>\n",
       "    </tr>\n",
       "  </tbody>\n",
       "</table>\n",
       "<p>29596 rows × 4 columns</p>\n",
       "</div>"
      ],
      "text/plain": [
       "               subreddit                                               text  \\\n",
       "0      NoStupidQuestions  Are there laws on education in international w...   \n",
       "1      NoStupidQuestions  Why can't some people not eat pork?     Not be...   \n",
       "2      NoStupidQuestions  Preference or Allergy     Just wondering, now ...   \n",
       "3      NoStupidQuestions  Do I need to update card info on everything?  ...   \n",
       "4      NoStupidQuestions  Any single ladies out there who wanna give an ...   \n",
       "...                  ...                                                ...   \n",
       "29591          AskReddit        Im on a mission, down vote me to hell.        \n",
       "29592          AskReddit  LGBTQ+ community of Reddit what would you say ...   \n",
       "29593          AskReddit  What is the most beautiful message you have ev...   \n",
       "29594          AskReddit  Are politics really getting increasingly polar...   \n",
       "29595          AskReddit  what's the worst thing you can do at a ventril...   \n",
       "\n",
       "                                                   spacy  \\\n",
       "0      law on education in international water      s...   \n",
       "1      why not some people not eat pork      not beca...   \n",
       "2      preference or Allergy      just wonder now whe...   \n",
       "3      need to update card info on      get a new car...   \n",
       "4      any single lady out there give an ugly guy wit...   \n",
       "...                                                  ...   \n",
       "29591              m on a mission down vote to hell        \n",
       "29592  LGBTQ+ community of Reddit say the symbol of s...   \n",
       "29593       the most beautiful message ever receive        \n",
       "29594  politic really increasingly polarize or social...   \n",
       "29595  the bad thing do at a ventriloquist 's perform...   \n",
       "\n",
       "       spacy_unique_word_count  \n",
       "0                           21  \n",
       "1                           19  \n",
       "2                           25  \n",
       "3                           41  \n",
       "4                           17  \n",
       "...                        ...  \n",
       "29591                        8  \n",
       "29592                       13  \n",
       "29593                        6  \n",
       "29594                       15  \n",
       "29595                        9  \n",
       "\n",
       "[29596 rows x 4 columns]"
      ]
     },
     "execution_count": 195,
     "metadata": {},
     "output_type": "execute_result"
    }
   ],
   "source": [
    "data = pd.read_csv('../data/data_cleaned.csv', usecols=['subreddit','text', 'spacy', 'spacy_unique_word_count'])\n",
    "data"
   ]
  },
  {
   "cell_type": "markdown",
   "id": "961d9a6b-16c9-437f-ade6-fd15a6df95b9",
   "metadata": {},
   "source": [
    "#### Define X, y, get a baseline, then train-test-split"
   ]
  },
  {
   "cell_type": "code",
   "execution_count": 16,
   "id": "6e06b84c-bc6a-4c59-915c-6b06107ea952",
   "metadata": {},
   "outputs": [
    {
     "name": "stdout",
     "output_type": "stream",
     "text": [
      "Baseline: 0.5337658242104789\n"
     ]
    },
    {
     "data": {
      "text/plain": [
       "((22197,), (7399,), (22197,), (7399,))"
      ]
     },
     "execution_count": 16,
     "metadata": {},
     "output_type": "execute_result"
    }
   ],
   "source": [
    "X = data.drop(columns=['subreddit', 'spacy_unique_word_count', 'text'])\n",
    "y = data['subreddit']\n",
    "\n",
    "X_train, X_test, y_train, y_test = train_test_split(X, y, \n",
    "                                              random_state=5,\n",
    "                                              stratify=y)\n",
    "\n",
    "print(f\"Baseline: {y_train.value_counts(normalize=True).max()}\")\n",
    "\n",
    "# need to squeeze the X variables after including an extra column in the csv later in the analysis\n",
    "X_train = X_train.squeeze()\n",
    "X_test = X_test.squeeze()\n",
    "X_train.shape, X_test.shape, y_train.shape, y_test.shape"
   ]
  },
  {
   "cell_type": "markdown",
   "id": "7ca143c6-887a-488d-ac83-4bc3c6be9482",
   "metadata": {},
   "source": [
    "#### Define pipelines for the two vectorizers combined with the four classifiers. 8 total"
   ]
  },
  {
   "cell_type": "code",
   "execution_count": 19,
   "id": "2a0ad3ee-1ac6-4676-9bdc-7b83a3be5b82",
   "metadata": {
    "tags": []
   },
   "outputs": [
    {
     "name": "stdout",
     "output_type": "stream",
     "text": [
      "CPU times: user 2min 16s, sys: 1.68 s, total: 2min 18s\n",
      "Wall time: 60 s\n"
     ]
    }
   ],
   "source": [
    "%%time\n",
    "vects = zip([('cv', CountVectorizer(stop_words='english', min_df=4, ngram_range=(1,2)))]*4,\\\n",
    "            [('tfidf', TfidfVectorizer(stop_words='english', min_df=4, ngram_range=(1,2)))]*4)\n",
    "\n",
    "\n",
    "classifiers = [('knn',KNeighborsClassifier()), ('logreg', LogisticRegression(random_state=5, max_iter=1000, n_jobs=-1)),\n",
    "               ('rf', RandomForestClassifier(random_state=5, n_jobs=-1)), ('nb', MultinomialNB())]\n",
    "\n",
    "pipes = []\n",
    "\n",
    "for i, vect in enumerate(vects):\n",
    "    pipes.append(Pipeline([vect[0], classifiers[i]]).fit(X_train,y_train))\n",
    "    pipes.append(Pipeline([vect[1], classifiers[i]]).fit(X_train,y_train))"
   ]
  },
  {
   "cell_type": "markdown",
   "id": "63f56bf1-b071-44e8-bf77-320f85139de8",
   "metadata": {},
   "source": [
    "#### Now score each pipeline and put into dataframe for pleasant viewing"
   ]
  },
  {
   "cell_type": "code",
   "execution_count": 20,
   "id": "c175da11-6cfc-4cb5-8e28-8e0a1114f097",
   "metadata": {},
   "outputs": [
    {
     "name": "stdout",
     "output_type": "stream",
     "text": [
      "CPU times: user 45.3 s, sys: 8.81 s, total: 54.1 s\n",
      "Wall time: 52.1 s\n"
     ]
    },
    {
     "data": {
      "text/html": [
       "<div>\n",
       "<style scoped>\n",
       "    .dataframe tbody tr th:only-of-type {\n",
       "        vertical-align: middle;\n",
       "    }\n",
       "\n",
       "    .dataframe tbody tr th {\n",
       "        vertical-align: top;\n",
       "    }\n",
       "\n",
       "    .dataframe thead th {\n",
       "        text-align: right;\n",
       "    }\n",
       "</style>\n",
       "<table border=\"1\" class=\"dataframe\">\n",
       "  <thead>\n",
       "    <tr style=\"text-align: right;\">\n",
       "      <th></th>\n",
       "      <th>pipe</th>\n",
       "      <th>train_scores</th>\n",
       "      <th>test_scores</th>\n",
       "    </tr>\n",
       "  </thead>\n",
       "  <tbody>\n",
       "    <tr>\n",
       "      <th>0</th>\n",
       "      <td>cv, knn</td>\n",
       "      <td>0.724963</td>\n",
       "      <td>0.617110</td>\n",
       "    </tr>\n",
       "    <tr>\n",
       "      <th>1</th>\n",
       "      <td>tfidf, knn</td>\n",
       "      <td>0.699914</td>\n",
       "      <td>0.548047</td>\n",
       "    </tr>\n",
       "    <tr>\n",
       "      <th>2</th>\n",
       "      <td>cv, logreg</td>\n",
       "      <td>0.761049</td>\n",
       "      <td>0.722260</td>\n",
       "    </tr>\n",
       "    <tr>\n",
       "      <th>3</th>\n",
       "      <td>tfidf, logreg</td>\n",
       "      <td>0.839753</td>\n",
       "      <td>0.763211</td>\n",
       "    </tr>\n",
       "    <tr>\n",
       "      <th>4</th>\n",
       "      <td>cv, rf</td>\n",
       "      <td>0.901473</td>\n",
       "      <td>0.688471</td>\n",
       "    </tr>\n",
       "    <tr>\n",
       "      <th>5</th>\n",
       "      <td>tfidf, rf</td>\n",
       "      <td>0.994999</td>\n",
       "      <td>0.780241</td>\n",
       "    </tr>\n",
       "    <tr>\n",
       "      <th>6</th>\n",
       "      <td>cv, nb</td>\n",
       "      <td>0.802766</td>\n",
       "      <td>0.739424</td>\n",
       "    </tr>\n",
       "    <tr>\n",
       "      <th>7</th>\n",
       "      <td>tfidf, nb</td>\n",
       "      <td>0.812407</td>\n",
       "      <td>0.737938</td>\n",
       "    </tr>\n",
       "  </tbody>\n",
       "</table>\n",
       "</div>"
      ],
      "text/plain": [
       "            pipe  train_scores  test_scores\n",
       "0        cv, knn      0.724963     0.617110\n",
       "1     tfidf, knn      0.699914     0.548047\n",
       "2     cv, logreg      0.761049     0.722260\n",
       "3  tfidf, logreg      0.839753     0.763211\n",
       "4         cv, rf      0.901473     0.688471\n",
       "5      tfidf, rf      0.994999     0.780241\n",
       "6         cv, nb      0.802766     0.739424\n",
       "7      tfidf, nb      0.812407     0.737938"
      ]
     },
     "execution_count": 20,
     "metadata": {},
     "output_type": "execute_result"
    }
   ],
   "source": [
    "%%time\n",
    "pipe_names = []\n",
    "train_scores = []\n",
    "test_scores = []\n",
    "for pipe in pipes:\n",
    "        pipe_names.append(f'{pipe.steps[0][0]}, {pipe.steps[1][0]}')\n",
    "        train_scores.append(pipe.score(X_train, y_train))\n",
    "        test_scores.append(pipe.score(X_test, y_test))\n",
    "        \n",
    "df = pd.DataFrame({\n",
    "    'pipe': pipe_names,\n",
    "    'train_scores': train_scores,\n",
    "    'test_scores': test_scores\n",
    "})\n",
    "\n",
    "df"
   ]
  },
  {
   "cell_type": "markdown",
   "id": "9b345b78-d72c-4163-9886-4f1a1c827e55",
   "metadata": {},
   "source": [
    "#### With the exception of kNN, `TfidfVectorizer` outperforms `CountVectorizer`, or at least matches its performance. So now I will limit my models to using `TfidfVectorizer` and begin grid searches. "
   ]
  },
  {
   "cell_type": "code",
   "execution_count": 21,
   "id": "b245f2af-c3ad-4a58-b142-616f84fdced6",
   "metadata": {},
   "outputs": [],
   "source": [
    "# Just cleaning up memory a bit\n",
    "del pipes\n",
    "del classifiers\n",
    "del vects"
   ]
  },
  {
   "cell_type": "markdown",
   "id": "587a5bf4-9b9c-46e4-bfee-243e7a9dde38",
   "metadata": {},
   "source": [
    "#### Beginning hyperparameter tuning"
   ]
  },
  {
   "cell_type": "code",
   "execution_count": 156,
   "id": "d1830574-70c2-4102-8708-ab33a956f0f5",
   "metadata": {},
   "outputs": [
    {
     "name": "stdout",
     "output_type": "stream",
     "text": [
      "Fitting 5 folds for each of 24 candidates, totalling 120 fits\n",
      "{'knn__n_neighbors': 10, 'knn__p': 2, 'knn__weights': 'distance'}\n",
      "CPU times: user 49.3 s, sys: 10.4 s, total: 59.7 s\n",
      "Wall time: 7min 51s\n"
     ]
    },
    {
     "data": {
      "text/plain": [
       "(0.9939180970401406, 0.5306122448979592)"
      ]
     },
     "execution_count": 156,
     "metadata": {},
     "output_type": "execute_result"
    }
   ],
   "source": [
    "%%time\n",
    "pipe_knn = Pipeline([\n",
    "    ('tfidf', TfidfVectorizer(stop_words='english', min_df=4, ngram_range=(1,2))),\n",
    "    ('knn', KNeighborsClassifier(n_jobs=-1))\n",
    "])\n",
    "\n",
    "params = {\n",
    "    'knn__n_neighbors': [10, 20, 50, 100],\n",
    "    'knn__weights': ['uniform', 'distance'],\n",
    "    'knn__p': [1, 2, 3]\n",
    "}\n",
    "\n",
    "gs_knn = GridSearchCV(pipe_knn, params, n_jobs=-1, verbose=1)\n",
    "gs_knn.fit(X_train, y_train)\n",
    "print(gs_knn.best_params_)\n",
    "gs_knn.score(X_train, y_train), gs_knn.score(X_test, y_test)"
   ]
  },
  {
   "cell_type": "markdown",
   "id": "5eeeb46b-3591-4fa7-a550-0f14d75596c8",
   "metadata": {},
   "source": [
    "#### kNN has repeatedly proven to be the worst performing, no matter how the hyperparameters are tuned. Can definitively say that there is no point in pursuing it further. "
   ]
  },
  {
   "cell_type": "code",
   "execution_count": 157,
   "id": "594aac7a-4f2b-4264-92d2-9d1d6dd374ac",
   "metadata": {},
   "outputs": [
    {
     "name": "stdout",
     "output_type": "stream",
     "text": [
      "Fitting 5 folds for each of 1 candidates, totalling 5 fits\n",
      "{'nb__alpha': 0.05040816326530612, 'tfidf__max_df': 0.1, 'tfidf__min_df': 4}\n",
      "CPU times: user 2.33 s, sys: 90 ms, total: 2.42 s\n",
      "Wall time: 5.71 s\n"
     ]
    },
    {
     "data": {
      "text/plain": [
       "(0.8428165968374105, 0.7410460873090958)"
      ]
     },
     "execution_count": 157,
     "metadata": {},
     "output_type": "execute_result"
    }
   ],
   "source": [
    "%%time\n",
    "pipe_nb = Pipeline([\n",
    "    ('tfidf', TfidfVectorizer(stop_words='english', ngram_range=(1,2))),\n",
    "    ('nb', MultinomialNB())\n",
    "])\n",
    "\n",
    "params = {\n",
    "    'tfidf__min_df': [4],\n",
    "    'tfidf__max_df': [.1],\n",
    "    'nb__alpha': [0.05040816326530612]\n",
    "}\n",
    "\n",
    "gs_nb = GridSearchCV(pipe_nb, params, n_jobs=-1, verbose=1)\n",
    "gs_nb.fit(X_train, y_train)\n",
    "print(gs_nb.best_params_)\n",
    "gs_nb.score(X_train, y_train), gs_nb.score(X_test, y_test)"
   ]
  },
  {
   "cell_type": "markdown",
   "id": "e449222d-03ce-4906-9e1c-495de728d7eb",
   "metadata": {},
   "source": [
    "#### Naive Bayes performs well, being able to reach >74% accuracy on the test set, and quickly runs through the GridSearch. I was able to achieve the lowest difference in train/test scores with this model, however the model was limited to unigrams. I think overall this version of the model shown is the best I was able to get it through this iteration. "
   ]
  },
  {
   "cell_type": "code",
   "execution_count": 35,
   "id": "9c2a0bfd-156f-4364-ae31-4d5b29453db5",
   "metadata": {},
   "outputs": [
    {
     "name": "stdout",
     "output_type": "stream",
     "text": [
      "Fitting 5 folds for each of 1 candidates, totalling 5 fits\n",
      "{'rf__criterion': 'gini', 'rf__max_depth': 500, 'rf__min_samples_leaf': 7, 'rf__n_estimators': 200, 'tfidf__max_df': 0.09}\n",
      "CPU times: user 15.7 s, sys: 270 ms, total: 16 s\n",
      "Wall time: 22.3 s\n"
     ]
    },
    {
     "data": {
      "text/plain": [
       "(0.7807811866468441, 0.7548317340181105)"
      ]
     },
     "execution_count": 35,
     "metadata": {},
     "output_type": "execute_result"
    }
   ],
   "source": [
    "%%time\n",
    "pipe_rf = Pipeline([\n",
    "    ('tfidf', TfidfVectorizer(stop_words='english', min_df=4, ngram_range=(1,2))),\n",
    "    ('rf', RandomForestClassifier(random_state=5, n_jobs=-1, warm_start=True))\n",
    "])\n",
    "\n",
    "params = {\n",
    "    'tfidf__max_df': [.09],\n",
    "    'rf__n_estimators': [200],\n",
    "    'rf__criterion': ['gini'],\n",
    "    'rf__max_depth': [500],\n",
    "    'rf__min_samples_leaf': [7]\n",
    "}\n",
    "\n",
    "gs_rf = GridSearchCV(pipe_rf, params, n_jobs=-1, verbose=1)\n",
    "gs_rf.fit(X_train, y_train)\n",
    "print(gs_rf.best_params_)\n",
    "gs_rf.score(X_train, y_train), gs_rf.score(X_test, y_test)"
   ]
  },
  {
   "cell_type": "markdown",
   "id": "b5eb6361-f897-4228-a315-f95965abdf09",
   "metadata": {},
   "source": [
    "#### Random Forest has achieved the highest overall test score of the bunch, at the cost of being the highest variance. However in this final iteration of tuning the `min_samples_leaf` parameter I was able to finally get the variance within that achieved by the Naive Bayes model, and it is now the best performing model of the bunch. The model shown above is the the lowest variance by far, and still achieves >75% accuracy (the best model with high variance only achieved ~79% accuracy, so I think this is an acceptable bias-variance trade-off)"
   ]
  },
  {
   "cell_type": "code",
   "execution_count": 40,
   "id": "fe9acfa4-f8c3-47a9-8a45-8077a2045fc8",
   "metadata": {
    "tags": []
   },
   "outputs": [
    {
     "name": "stdout",
     "output_type": "stream",
     "text": [
      "Fitting 5 folds for each of 1 candidates, totalling 5 fits\n",
      "{'logreg__C': 3.747368421052632, 'logreg__penalty': 'l2', 'tfidf__max_df': 0.1, 'tfidf__min_df': 4}\n",
      "CPU times: user 2.76 s, sys: 116 ms, total: 2.88 s\n",
      "Wall time: 7.67 s\n"
     ]
    },
    {
     "data": {
      "text/plain": [
       "(0.8876875253412624, 0.7622651709690499)"
      ]
     },
     "execution_count": 40,
     "metadata": {},
     "output_type": "execute_result"
    }
   ],
   "source": [
    "%%time\n",
    "pipe_logreg = Pipeline([\n",
    "    ('tfidf', TfidfVectorizer(stop_words='english', ngram_range=(1,2))),\n",
    "    ('logreg', LogisticRegression(max_iter=1e4, solver='saga', random_state=5, n_jobs=-1, warm_start=True))\n",
    "])\n",
    "\n",
    "params = {\n",
    "    'tfidf__min_df': [4],\n",
    "    'tfidf__max_df': [.1],\n",
    "    'logreg__C': [3.747368421052632],\n",
    "    'logreg__penalty': ['l2']\n",
    "}\n",
    "\n",
    "gs_logreg = GridSearchCV(pipe_logreg, params, n_jobs=-1, verbose=1)\n",
    "gs_logreg.fit(X_train, y_train)\n",
    "print(gs_logreg.best_params_)\n",
    "gs_logreg.score(X_train, y_train), gs_logreg.score(X_test, y_test)"
   ]
  },
  {
   "cell_type": "markdown",
   "id": "194a5ba9-be54-44b6-b4c8-6c59663820e3",
   "metadata": {},
   "source": [
    "#### Logistic Regression performs well, but I cannot get the variance to get to a manageable level. Shown are the best parameters I was able to find. I will be moving forward with the Random Forest model only."
   ]
  },
  {
   "cell_type": "markdown",
   "id": "a042498a-c3c2-41ab-9a84-bfbcf7f29f64",
   "metadata": {},
   "source": [
    "#### Attempting to use `ColumnTranformer` in order to incorporate status length into the classification. Going to only use Random Forest, and the best params I found previously"
   ]
  },
  {
   "cell_type": "code",
   "execution_count": 68,
   "id": "daddd101-abbe-48c2-8619-7170c700dac5",
   "metadata": {},
   "outputs": [],
   "source": [
    "X_num = data.drop(columns=['subreddit', 'text'])\n",
    "y_num = data['subreddit']\n",
    "\n",
    "X_train_num, X_test_num, y_train_num, y_test_num = train_test_split(X_num, y_num, \n",
    "                                              random_state=5,\n",
    "                                              stratify=y_num)\n",
    "X_train_num.shape, X_test_num.shape, y_train_num.shape, y_test_num.shape"
   ]
  },
  {
   "cell_type": "code",
   "execution_count": 69,
   "id": "b428a6a8-1697-4762-8cb3-687e71c5f2a7",
   "metadata": {},
   "outputs": [
    {
     "name": "stdout",
     "output_type": "stream",
     "text": [
      "CPU times: user 73 µs, sys: 1 µs, total: 74 µs\n",
      "Wall time: 77 µs\n"
     ]
    },
    {
     "data": {
      "text/html": [
       "<style>#sk-container-id-2 {color: black;background-color: white;}#sk-container-id-2 pre{padding: 0;}#sk-container-id-2 div.sk-toggleable {background-color: white;}#sk-container-id-2 label.sk-toggleable__label {cursor: pointer;display: block;width: 100%;margin-bottom: 0;padding: 0.3em;box-sizing: border-box;text-align: center;}#sk-container-id-2 label.sk-toggleable__label-arrow:before {content: \"▸\";float: left;margin-right: 0.25em;color: #696969;}#sk-container-id-2 label.sk-toggleable__label-arrow:hover:before {color: black;}#sk-container-id-2 div.sk-estimator:hover label.sk-toggleable__label-arrow:before {color: black;}#sk-container-id-2 div.sk-toggleable__content {max-height: 0;max-width: 0;overflow: hidden;text-align: left;background-color: #f0f8ff;}#sk-container-id-2 div.sk-toggleable__content pre {margin: 0.2em;color: black;border-radius: 0.25em;background-color: #f0f8ff;}#sk-container-id-2 input.sk-toggleable__control:checked~div.sk-toggleable__content {max-height: 200px;max-width: 100%;overflow: auto;}#sk-container-id-2 input.sk-toggleable__control:checked~label.sk-toggleable__label-arrow:before {content: \"▾\";}#sk-container-id-2 div.sk-estimator input.sk-toggleable__control:checked~label.sk-toggleable__label {background-color: #d4ebff;}#sk-container-id-2 div.sk-label input.sk-toggleable__control:checked~label.sk-toggleable__label {background-color: #d4ebff;}#sk-container-id-2 input.sk-hidden--visually {border: 0;clip: rect(1px 1px 1px 1px);clip: rect(1px, 1px, 1px, 1px);height: 1px;margin: -1px;overflow: hidden;padding: 0;position: absolute;width: 1px;}#sk-container-id-2 div.sk-estimator {font-family: monospace;background-color: #f0f8ff;border: 1px dotted black;border-radius: 0.25em;box-sizing: border-box;margin-bottom: 0.5em;}#sk-container-id-2 div.sk-estimator:hover {background-color: #d4ebff;}#sk-container-id-2 div.sk-parallel-item::after {content: \"\";width: 100%;border-bottom: 1px solid gray;flex-grow: 1;}#sk-container-id-2 div.sk-label:hover label.sk-toggleable__label {background-color: #d4ebff;}#sk-container-id-2 div.sk-serial::before {content: \"\";position: absolute;border-left: 1px solid gray;box-sizing: border-box;top: 0;bottom: 0;left: 50%;z-index: 0;}#sk-container-id-2 div.sk-serial {display: flex;flex-direction: column;align-items: center;background-color: white;padding-right: 0.2em;padding-left: 0.2em;position: relative;}#sk-container-id-2 div.sk-item {position: relative;z-index: 1;}#sk-container-id-2 div.sk-parallel {display: flex;align-items: stretch;justify-content: center;background-color: white;position: relative;}#sk-container-id-2 div.sk-item::before, #sk-container-id-2 div.sk-parallel-item::before {content: \"\";position: absolute;border-left: 1px solid gray;box-sizing: border-box;top: 0;bottom: 0;left: 50%;z-index: -1;}#sk-container-id-2 div.sk-parallel-item {display: flex;flex-direction: column;z-index: 1;position: relative;background-color: white;}#sk-container-id-2 div.sk-parallel-item:first-child::after {align-self: flex-end;width: 50%;}#sk-container-id-2 div.sk-parallel-item:last-child::after {align-self: flex-start;width: 50%;}#sk-container-id-2 div.sk-parallel-item:only-child::after {width: 0;}#sk-container-id-2 div.sk-dashed-wrapped {border: 1px dashed gray;margin: 0 0.4em 0.5em 0.4em;box-sizing: border-box;padding-bottom: 0.4em;background-color: white;}#sk-container-id-2 div.sk-label label {font-family: monospace;font-weight: bold;display: inline-block;line-height: 1.2em;}#sk-container-id-2 div.sk-label-container {text-align: center;}#sk-container-id-2 div.sk-container {/* jupyter's `normalize.less` sets `[hidden] { display: none; }` but bootstrap.min.css set `[hidden] { display: none !important; }` so we also need the `!important` here to be able to override the default hidden behavior on the sphinx rendered scikit-learn.org. See: https://github.com/scikit-learn/scikit-learn/issues/21755 */display: inline-block !important;position: relative;}#sk-container-id-2 div.sk-text-repr-fallback {display: none;}</style><div id=\"sk-container-id-2\" class=\"sk-top-container\"><div class=\"sk-text-repr-fallback\"><pre>Pipeline(steps=[(&#x27;preprocessor&#x27;,\n",
       "                 ColumnTransformer(transformers=[(&#x27;ss&#x27;, StandardScaler(),\n",
       "                                                  [&#x27;spacy_unique_word_count&#x27;]),\n",
       "                                                 (&#x27;cat&#x27;,\n",
       "                                                  Pipeline(steps=[(&#x27;squeeze&#x27;,\n",
       "                                                                   FunctionTransformer(func=&lt;function &lt;lambda&gt; at 0x7faf22369940&gt;)),\n",
       "                                                                  (&#x27;tfidf&#x27;,\n",
       "                                                                   TfidfVectorizer(max_df=0.09,\n",
       "                                                                                   min_df=4,\n",
       "                                                                                   ngram_range=(1,\n",
       "                                                                                                2),\n",
       "                                                                                   stop_words=&#x27;english&#x27;)),\n",
       "                                                                  (&#x27;toarray&#x27;,\n",
       "                                                                   FunctionTransformer(func=&lt;function &lt;lambda&gt; at 0x7faf223698b0&gt;))]),\n",
       "                                                  [&#x27;spacy&#x27;])])),\n",
       "                (&#x27;rf&#x27;,\n",
       "                 RandomForestClassifier(max_depth=500, min_samples_leaf=7,\n",
       "                                        n_estimators=200, n_jobs=-1,\n",
       "                                        random_state=5, warm_start=True))])</pre><b>In a Jupyter environment, please rerun this cell to show the HTML representation or trust the notebook. <br />On GitHub, the HTML representation is unable to render, please try loading this page with nbviewer.org.</b></div><div class=\"sk-container\" hidden><div class=\"sk-item sk-dashed-wrapped\"><div class=\"sk-label-container\"><div class=\"sk-label sk-toggleable\"><input class=\"sk-toggleable__control sk-hidden--visually\" id=\"sk-estimator-id-10\" type=\"checkbox\" ><label for=\"sk-estimator-id-10\" class=\"sk-toggleable__label sk-toggleable__label-arrow\">Pipeline</label><div class=\"sk-toggleable__content\"><pre>Pipeline(steps=[(&#x27;preprocessor&#x27;,\n",
       "                 ColumnTransformer(transformers=[(&#x27;ss&#x27;, StandardScaler(),\n",
       "                                                  [&#x27;spacy_unique_word_count&#x27;]),\n",
       "                                                 (&#x27;cat&#x27;,\n",
       "                                                  Pipeline(steps=[(&#x27;squeeze&#x27;,\n",
       "                                                                   FunctionTransformer(func=&lt;function &lt;lambda&gt; at 0x7faf22369940&gt;)),\n",
       "                                                                  (&#x27;tfidf&#x27;,\n",
       "                                                                   TfidfVectorizer(max_df=0.09,\n",
       "                                                                                   min_df=4,\n",
       "                                                                                   ngram_range=(1,\n",
       "                                                                                                2),\n",
       "                                                                                   stop_words=&#x27;english&#x27;)),\n",
       "                                                                  (&#x27;toarray&#x27;,\n",
       "                                                                   FunctionTransformer(func=&lt;function &lt;lambda&gt; at 0x7faf223698b0&gt;))]),\n",
       "                                                  [&#x27;spacy&#x27;])])),\n",
       "                (&#x27;rf&#x27;,\n",
       "                 RandomForestClassifier(max_depth=500, min_samples_leaf=7,\n",
       "                                        n_estimators=200, n_jobs=-1,\n",
       "                                        random_state=5, warm_start=True))])</pre></div></div></div><div class=\"sk-serial\"><div class=\"sk-item sk-dashed-wrapped\"><div class=\"sk-label-container\"><div class=\"sk-label sk-toggleable\"><input class=\"sk-toggleable__control sk-hidden--visually\" id=\"sk-estimator-id-11\" type=\"checkbox\" ><label for=\"sk-estimator-id-11\" class=\"sk-toggleable__label sk-toggleable__label-arrow\">preprocessor: ColumnTransformer</label><div class=\"sk-toggleable__content\"><pre>ColumnTransformer(transformers=[(&#x27;ss&#x27;, StandardScaler(),\n",
       "                                 [&#x27;spacy_unique_word_count&#x27;]),\n",
       "                                (&#x27;cat&#x27;,\n",
       "                                 Pipeline(steps=[(&#x27;squeeze&#x27;,\n",
       "                                                  FunctionTransformer(func=&lt;function &lt;lambda&gt; at 0x7faf22369940&gt;)),\n",
       "                                                 (&#x27;tfidf&#x27;,\n",
       "                                                  TfidfVectorizer(max_df=0.09,\n",
       "                                                                  min_df=4,\n",
       "                                                                  ngram_range=(1,\n",
       "                                                                               2),\n",
       "                                                                  stop_words=&#x27;english&#x27;)),\n",
       "                                                 (&#x27;toarray&#x27;,\n",
       "                                                  FunctionTransformer(func=&lt;function &lt;lambda&gt; at 0x7faf223698b0&gt;))]),\n",
       "                                 [&#x27;spacy&#x27;])])</pre></div></div></div><div class=\"sk-parallel\"><div class=\"sk-parallel-item\"><div class=\"sk-item\"><div class=\"sk-label-container\"><div class=\"sk-label sk-toggleable\"><input class=\"sk-toggleable__control sk-hidden--visually\" id=\"sk-estimator-id-12\" type=\"checkbox\" ><label for=\"sk-estimator-id-12\" class=\"sk-toggleable__label sk-toggleable__label-arrow\">ss</label><div class=\"sk-toggleable__content\"><pre>[&#x27;spacy_unique_word_count&#x27;]</pre></div></div></div><div class=\"sk-serial\"><div class=\"sk-item\"><div class=\"sk-estimator sk-toggleable\"><input class=\"sk-toggleable__control sk-hidden--visually\" id=\"sk-estimator-id-13\" type=\"checkbox\" ><label for=\"sk-estimator-id-13\" class=\"sk-toggleable__label sk-toggleable__label-arrow\">StandardScaler</label><div class=\"sk-toggleable__content\"><pre>StandardScaler()</pre></div></div></div></div></div></div><div class=\"sk-parallel-item\"><div class=\"sk-item\"><div class=\"sk-label-container\"><div class=\"sk-label sk-toggleable\"><input class=\"sk-toggleable__control sk-hidden--visually\" id=\"sk-estimator-id-14\" type=\"checkbox\" ><label for=\"sk-estimator-id-14\" class=\"sk-toggleable__label sk-toggleable__label-arrow\">cat</label><div class=\"sk-toggleable__content\"><pre>[&#x27;spacy&#x27;]</pre></div></div></div><div class=\"sk-serial\"><div class=\"sk-item\"><div class=\"sk-serial\"><div class=\"sk-item\"><div class=\"sk-estimator sk-toggleable\"><input class=\"sk-toggleable__control sk-hidden--visually\" id=\"sk-estimator-id-15\" type=\"checkbox\" ><label for=\"sk-estimator-id-15\" class=\"sk-toggleable__label sk-toggleable__label-arrow\">FunctionTransformer</label><div class=\"sk-toggleable__content\"><pre>FunctionTransformer(func=&lt;function &lt;lambda&gt; at 0x7faf22369940&gt;)</pre></div></div></div><div class=\"sk-item\"><div class=\"sk-estimator sk-toggleable\"><input class=\"sk-toggleable__control sk-hidden--visually\" id=\"sk-estimator-id-16\" type=\"checkbox\" ><label for=\"sk-estimator-id-16\" class=\"sk-toggleable__label sk-toggleable__label-arrow\">TfidfVectorizer</label><div class=\"sk-toggleable__content\"><pre>TfidfVectorizer(max_df=0.09, min_df=4, ngram_range=(1, 2), stop_words=&#x27;english&#x27;)</pre></div></div></div><div class=\"sk-item\"><div class=\"sk-estimator sk-toggleable\"><input class=\"sk-toggleable__control sk-hidden--visually\" id=\"sk-estimator-id-17\" type=\"checkbox\" ><label for=\"sk-estimator-id-17\" class=\"sk-toggleable__label sk-toggleable__label-arrow\">FunctionTransformer</label><div class=\"sk-toggleable__content\"><pre>FunctionTransformer(func=&lt;function &lt;lambda&gt; at 0x7faf223698b0&gt;)</pre></div></div></div></div></div></div></div></div></div></div><div class=\"sk-item\"><div class=\"sk-estimator sk-toggleable\"><input class=\"sk-toggleable__control sk-hidden--visually\" id=\"sk-estimator-id-18\" type=\"checkbox\" ><label for=\"sk-estimator-id-18\" class=\"sk-toggleable__label sk-toggleable__label-arrow\">RandomForestClassifier</label><div class=\"sk-toggleable__content\"><pre>RandomForestClassifier(max_depth=500, min_samples_leaf=7, n_estimators=200,\n",
       "                       n_jobs=-1, random_state=5, warm_start=True)</pre></div></div></div></div></div></div></div>"
      ],
      "text/plain": [
       "Pipeline(steps=[('preprocessor',\n",
       "                 ColumnTransformer(transformers=[('ss', StandardScaler(),\n",
       "                                                  ['spacy_unique_word_count']),\n",
       "                                                 ('cat',\n",
       "                                                  Pipeline(steps=[('squeeze',\n",
       "                                                                   FunctionTransformer(func=<function <lambda> at 0x7faf22369940>)),\n",
       "                                                                  ('tfidf',\n",
       "                                                                   TfidfVectorizer(max_df=0.09,\n",
       "                                                                                   min_df=4,\n",
       "                                                                                   ngram_range=(1,\n",
       "                                                                                                2),\n",
       "                                                                                   stop_words='english')),\n",
       "                                                                  ('toarray',\n",
       "                                                                   FunctionTransformer(func=<function <lambda> at 0x7faf223698b0>))]),\n",
       "                                                  ['spacy'])])),\n",
       "                ('rf',\n",
       "                 RandomForestClassifier(max_depth=500, min_samples_leaf=7,\n",
       "                                        n_estimators=200, n_jobs=-1,\n",
       "                                        random_state=5, warm_start=True))])"
      ]
     },
     "execution_count": 69,
     "metadata": {},
     "output_type": "execute_result"
    }
   ],
   "source": [
    "%%time\n",
    "cat_transformer = Pipeline([\n",
    "    ('squeeze', FunctionTransformer(lambda x: x.squeeze())),\n",
    "    ('tfidf', TfidfVectorizer(stop_words='english', ngram_range=(1,2), min_df=4, max_df=.09)),\n",
    "    ('toarray', FunctionTransformer(lambda x: x.toarray()))\n",
    "])\n",
    "preprocessor = ColumnTransformer([\n",
    "        ('ss', StandardScaler(), ['spacy_unique_word_count']),\n",
    "        ('cat', cat_transformer, ['spacy']),\n",
    "    ])\n",
    "\n",
    "pipe_rf_num_ss = Pipeline([\n",
    "    ('preprocessor', preprocessor),\n",
    "    ('rf', RandomForestClassifier(random_state=5, n_jobs=-1, warm_start=True,\\\n",
    "                                  n_estimators=200, min_samples_leaf=7, max_depth=500, criterion='gini'))\n",
    "])\n",
    "\n",
    "pipe_rf_num_ss"
   ]
  },
  {
   "cell_type": "code",
   "execution_count": 70,
   "id": "7cdff891-18a4-4493-aec3-b53b8dc0e25b",
   "metadata": {},
   "outputs": [
    {
     "name": "stdout",
     "output_type": "stream",
     "text": [
      "CPU times: user 18min 8s, sys: 12.3 s, total: 18min 21s\n",
      "Wall time: 5min 17s\n"
     ]
    },
    {
     "data": {
      "text/plain": [
       "(0.7836194080281119, 0.7672658467360454)"
      ]
     },
     "execution_count": 70,
     "metadata": {},
     "output_type": "execute_result"
    }
   ],
   "source": [
    "%%time\n",
    "pipe_rf_num_ss.fit(X_train_num, y_train_num)\n",
    "pipe_rf_num_ss.score(X_train_num, y_train_num), pipe_rf_num.score(X_test_num, y_test_num)"
   ]
  },
  {
   "cell_type": "markdown",
   "id": "e6947a8c-fbbd-48dc-8218-6ab77da60fca",
   "metadata": {},
   "source": [
    "#### Wow that's a long time for a single fit, but brought down the variance even more and increased the accuracy! In theory scaling shouldn't be required since this is a classification problem, so going to investigate not including StandardScaler."
   ]
  },
  {
   "cell_type": "code",
   "execution_count": 72,
   "id": "64a843cd-b496-426a-a44d-2717a92b3f44",
   "metadata": {},
   "outputs": [
    {
     "name": "stdout",
     "output_type": "stream",
     "text": [
      "CPU times: user 67 µs, sys: 1e+03 ns, total: 68 µs\n",
      "Wall time: 71 µs\n"
     ]
    },
    {
     "data": {
      "text/html": [
       "<style>#sk-container-id-4 {color: black;background-color: white;}#sk-container-id-4 pre{padding: 0;}#sk-container-id-4 div.sk-toggleable {background-color: white;}#sk-container-id-4 label.sk-toggleable__label {cursor: pointer;display: block;width: 100%;margin-bottom: 0;padding: 0.3em;box-sizing: border-box;text-align: center;}#sk-container-id-4 label.sk-toggleable__label-arrow:before {content: \"▸\";float: left;margin-right: 0.25em;color: #696969;}#sk-container-id-4 label.sk-toggleable__label-arrow:hover:before {color: black;}#sk-container-id-4 div.sk-estimator:hover label.sk-toggleable__label-arrow:before {color: black;}#sk-container-id-4 div.sk-toggleable__content {max-height: 0;max-width: 0;overflow: hidden;text-align: left;background-color: #f0f8ff;}#sk-container-id-4 div.sk-toggleable__content pre {margin: 0.2em;color: black;border-radius: 0.25em;background-color: #f0f8ff;}#sk-container-id-4 input.sk-toggleable__control:checked~div.sk-toggleable__content {max-height: 200px;max-width: 100%;overflow: auto;}#sk-container-id-4 input.sk-toggleable__control:checked~label.sk-toggleable__label-arrow:before {content: \"▾\";}#sk-container-id-4 div.sk-estimator input.sk-toggleable__control:checked~label.sk-toggleable__label {background-color: #d4ebff;}#sk-container-id-4 div.sk-label input.sk-toggleable__control:checked~label.sk-toggleable__label {background-color: #d4ebff;}#sk-container-id-4 input.sk-hidden--visually {border: 0;clip: rect(1px 1px 1px 1px);clip: rect(1px, 1px, 1px, 1px);height: 1px;margin: -1px;overflow: hidden;padding: 0;position: absolute;width: 1px;}#sk-container-id-4 div.sk-estimator {font-family: monospace;background-color: #f0f8ff;border: 1px dotted black;border-radius: 0.25em;box-sizing: border-box;margin-bottom: 0.5em;}#sk-container-id-4 div.sk-estimator:hover {background-color: #d4ebff;}#sk-container-id-4 div.sk-parallel-item::after {content: \"\";width: 100%;border-bottom: 1px solid gray;flex-grow: 1;}#sk-container-id-4 div.sk-label:hover label.sk-toggleable__label {background-color: #d4ebff;}#sk-container-id-4 div.sk-serial::before {content: \"\";position: absolute;border-left: 1px solid gray;box-sizing: border-box;top: 0;bottom: 0;left: 50%;z-index: 0;}#sk-container-id-4 div.sk-serial {display: flex;flex-direction: column;align-items: center;background-color: white;padding-right: 0.2em;padding-left: 0.2em;position: relative;}#sk-container-id-4 div.sk-item {position: relative;z-index: 1;}#sk-container-id-4 div.sk-parallel {display: flex;align-items: stretch;justify-content: center;background-color: white;position: relative;}#sk-container-id-4 div.sk-item::before, #sk-container-id-4 div.sk-parallel-item::before {content: \"\";position: absolute;border-left: 1px solid gray;box-sizing: border-box;top: 0;bottom: 0;left: 50%;z-index: -1;}#sk-container-id-4 div.sk-parallel-item {display: flex;flex-direction: column;z-index: 1;position: relative;background-color: white;}#sk-container-id-4 div.sk-parallel-item:first-child::after {align-self: flex-end;width: 50%;}#sk-container-id-4 div.sk-parallel-item:last-child::after {align-self: flex-start;width: 50%;}#sk-container-id-4 div.sk-parallel-item:only-child::after {width: 0;}#sk-container-id-4 div.sk-dashed-wrapped {border: 1px dashed gray;margin: 0 0.4em 0.5em 0.4em;box-sizing: border-box;padding-bottom: 0.4em;background-color: white;}#sk-container-id-4 div.sk-label label {font-family: monospace;font-weight: bold;display: inline-block;line-height: 1.2em;}#sk-container-id-4 div.sk-label-container {text-align: center;}#sk-container-id-4 div.sk-container {/* jupyter's `normalize.less` sets `[hidden] { display: none; }` but bootstrap.min.css set `[hidden] { display: none !important; }` so we also need the `!important` here to be able to override the default hidden behavior on the sphinx rendered scikit-learn.org. See: https://github.com/scikit-learn/scikit-learn/issues/21755 */display: inline-block !important;position: relative;}#sk-container-id-4 div.sk-text-repr-fallback {display: none;}</style><div id=\"sk-container-id-4\" class=\"sk-top-container\"><div class=\"sk-text-repr-fallback\"><pre>Pipeline(steps=[(&#x27;preprocessor&#x27;,\n",
       "                 ColumnTransformer(transformers=[(&#x27;cat&#x27;,\n",
       "                                                  Pipeline(steps=[(&#x27;squeeze&#x27;,\n",
       "                                                                   FunctionTransformer(func=&lt;function &lt;lambda&gt; at 0x7fae4769d1f0&gt;)),\n",
       "                                                                  (&#x27;tfidf&#x27;,\n",
       "                                                                   TfidfVectorizer(max_df=0.09,\n",
       "                                                                                   min_df=4,\n",
       "                                                                                   ngram_range=(1,\n",
       "                                                                                                2),\n",
       "                                                                                   stop_words=&#x27;english&#x27;)),\n",
       "                                                                  (&#x27;toarray&#x27;,\n",
       "                                                                   FunctionTransformer(func=&lt;function &lt;lambda&gt; at 0x7fae4769d430&gt;))]),\n",
       "                                                  [&#x27;spacy&#x27;])])),\n",
       "                (&#x27;rf&#x27;,\n",
       "                 RandomForestClassifier(max_depth=500, min_samples_leaf=7,\n",
       "                                        n_estimators=200, n_jobs=-1,\n",
       "                                        random_state=5, warm_start=True))])</pre><b>In a Jupyter environment, please rerun this cell to show the HTML representation or trust the notebook. <br />On GitHub, the HTML representation is unable to render, please try loading this page with nbviewer.org.</b></div><div class=\"sk-container\" hidden><div class=\"sk-item sk-dashed-wrapped\"><div class=\"sk-label-container\"><div class=\"sk-label sk-toggleable\"><input class=\"sk-toggleable__control sk-hidden--visually\" id=\"sk-estimator-id-26\" type=\"checkbox\" ><label for=\"sk-estimator-id-26\" class=\"sk-toggleable__label sk-toggleable__label-arrow\">Pipeline</label><div class=\"sk-toggleable__content\"><pre>Pipeline(steps=[(&#x27;preprocessor&#x27;,\n",
       "                 ColumnTransformer(transformers=[(&#x27;cat&#x27;,\n",
       "                                                  Pipeline(steps=[(&#x27;squeeze&#x27;,\n",
       "                                                                   FunctionTransformer(func=&lt;function &lt;lambda&gt; at 0x7fae4769d1f0&gt;)),\n",
       "                                                                  (&#x27;tfidf&#x27;,\n",
       "                                                                   TfidfVectorizer(max_df=0.09,\n",
       "                                                                                   min_df=4,\n",
       "                                                                                   ngram_range=(1,\n",
       "                                                                                                2),\n",
       "                                                                                   stop_words=&#x27;english&#x27;)),\n",
       "                                                                  (&#x27;toarray&#x27;,\n",
       "                                                                   FunctionTransformer(func=&lt;function &lt;lambda&gt; at 0x7fae4769d430&gt;))]),\n",
       "                                                  [&#x27;spacy&#x27;])])),\n",
       "                (&#x27;rf&#x27;,\n",
       "                 RandomForestClassifier(max_depth=500, min_samples_leaf=7,\n",
       "                                        n_estimators=200, n_jobs=-1,\n",
       "                                        random_state=5, warm_start=True))])</pre></div></div></div><div class=\"sk-serial\"><div class=\"sk-item sk-dashed-wrapped\"><div class=\"sk-label-container\"><div class=\"sk-label sk-toggleable\"><input class=\"sk-toggleable__control sk-hidden--visually\" id=\"sk-estimator-id-27\" type=\"checkbox\" ><label for=\"sk-estimator-id-27\" class=\"sk-toggleable__label sk-toggleable__label-arrow\">preprocessor: ColumnTransformer</label><div class=\"sk-toggleable__content\"><pre>ColumnTransformer(transformers=[(&#x27;cat&#x27;,\n",
       "                                 Pipeline(steps=[(&#x27;squeeze&#x27;,\n",
       "                                                  FunctionTransformer(func=&lt;function &lt;lambda&gt; at 0x7fae4769d1f0&gt;)),\n",
       "                                                 (&#x27;tfidf&#x27;,\n",
       "                                                  TfidfVectorizer(max_df=0.09,\n",
       "                                                                  min_df=4,\n",
       "                                                                  ngram_range=(1,\n",
       "                                                                               2),\n",
       "                                                                  stop_words=&#x27;english&#x27;)),\n",
       "                                                 (&#x27;toarray&#x27;,\n",
       "                                                  FunctionTransformer(func=&lt;function &lt;lambda&gt; at 0x7fae4769d430&gt;))]),\n",
       "                                 [&#x27;spacy&#x27;])])</pre></div></div></div><div class=\"sk-parallel\"><div class=\"sk-parallel-item\"><div class=\"sk-item\"><div class=\"sk-label-container\"><div class=\"sk-label sk-toggleable\"><input class=\"sk-toggleable__control sk-hidden--visually\" id=\"sk-estimator-id-28\" type=\"checkbox\" ><label for=\"sk-estimator-id-28\" class=\"sk-toggleable__label sk-toggleable__label-arrow\">cat</label><div class=\"sk-toggleable__content\"><pre>[&#x27;spacy&#x27;]</pre></div></div></div><div class=\"sk-serial\"><div class=\"sk-item\"><div class=\"sk-serial\"><div class=\"sk-item\"><div class=\"sk-estimator sk-toggleable\"><input class=\"sk-toggleable__control sk-hidden--visually\" id=\"sk-estimator-id-29\" type=\"checkbox\" ><label for=\"sk-estimator-id-29\" class=\"sk-toggleable__label sk-toggleable__label-arrow\">FunctionTransformer</label><div class=\"sk-toggleable__content\"><pre>FunctionTransformer(func=&lt;function &lt;lambda&gt; at 0x7fae4769d1f0&gt;)</pre></div></div></div><div class=\"sk-item\"><div class=\"sk-estimator sk-toggleable\"><input class=\"sk-toggleable__control sk-hidden--visually\" id=\"sk-estimator-id-30\" type=\"checkbox\" ><label for=\"sk-estimator-id-30\" class=\"sk-toggleable__label sk-toggleable__label-arrow\">TfidfVectorizer</label><div class=\"sk-toggleable__content\"><pre>TfidfVectorizer(max_df=0.09, min_df=4, ngram_range=(1, 2), stop_words=&#x27;english&#x27;)</pre></div></div></div><div class=\"sk-item\"><div class=\"sk-estimator sk-toggleable\"><input class=\"sk-toggleable__control sk-hidden--visually\" id=\"sk-estimator-id-31\" type=\"checkbox\" ><label for=\"sk-estimator-id-31\" class=\"sk-toggleable__label sk-toggleable__label-arrow\">FunctionTransformer</label><div class=\"sk-toggleable__content\"><pre>FunctionTransformer(func=&lt;function &lt;lambda&gt; at 0x7fae4769d430&gt;)</pre></div></div></div></div></div></div></div></div></div></div><div class=\"sk-item\"><div class=\"sk-estimator sk-toggleable\"><input class=\"sk-toggleable__control sk-hidden--visually\" id=\"sk-estimator-id-32\" type=\"checkbox\" ><label for=\"sk-estimator-id-32\" class=\"sk-toggleable__label sk-toggleable__label-arrow\">RandomForestClassifier</label><div class=\"sk-toggleable__content\"><pre>RandomForestClassifier(max_depth=500, min_samples_leaf=7, n_estimators=200,\n",
       "                       n_jobs=-1, random_state=5, warm_start=True)</pre></div></div></div></div></div></div></div>"
      ],
      "text/plain": [
       "Pipeline(steps=[('preprocessor',\n",
       "                 ColumnTransformer(transformers=[('cat',\n",
       "                                                  Pipeline(steps=[('squeeze',\n",
       "                                                                   FunctionTransformer(func=<function <lambda> at 0x7fae4769d1f0>)),\n",
       "                                                                  ('tfidf',\n",
       "                                                                   TfidfVectorizer(max_df=0.09,\n",
       "                                                                                   min_df=4,\n",
       "                                                                                   ngram_range=(1,\n",
       "                                                                                                2),\n",
       "                                                                                   stop_words='english')),\n",
       "                                                                  ('toarray',\n",
       "                                                                   FunctionTransformer(func=<function <lambda> at 0x7fae4769d430>))]),\n",
       "                                                  ['spacy'])])),\n",
       "                ('rf',\n",
       "                 RandomForestClassifier(max_depth=500, min_samples_leaf=7,\n",
       "                                        n_estimators=200, n_jobs=-1,\n",
       "                                        random_state=5, warm_start=True))])"
      ]
     },
     "execution_count": 72,
     "metadata": {},
     "output_type": "execute_result"
    }
   ],
   "source": [
    "%%time\n",
    "cat_transformer = Pipeline([\n",
    "    ('squeeze', FunctionTransformer(lambda x: x.squeeze())),\n",
    "    ('tfidf', TfidfVectorizer(stop_words='english', ngram_range=(1,2), min_df=4, max_df=.09)),\n",
    "    ('toarray', FunctionTransformer(lambda x: x.toarray()))\n",
    "])\n",
    "preprocessor = ColumnTransformer([\n",
    "        ('cat', cat_transformer, ['spacy']),\n",
    "    ])\n",
    "\n",
    "pipe_rf_num = Pipeline([\n",
    "    ('preprocessor', preprocessor),\n",
    "    ('rf', RandomForestClassifier(random_state=5, n_jobs=-1, warm_start=True,\\\n",
    "                                  n_estimators=200, min_samples_leaf=7, max_depth=500, criterion='gini'))\n",
    "])\n",
    "\n",
    "pipe_rf_num"
   ]
  },
  {
   "cell_type": "code",
   "execution_count": 74,
   "id": "45089054-3e8e-46d6-8004-c15201fa61b3",
   "metadata": {},
   "outputs": [
    {
     "name": "stdout",
     "output_type": "stream",
     "text": [
      "CPU times: user 18min 50s, sys: 11 s, total: 19min 1s\n",
      "Wall time: 5min 28s\n"
     ]
    },
    {
     "data": {
      "text/plain": [
       "(0.7807811866468441, 0.7548317340181105)"
      ]
     },
     "execution_count": 74,
     "metadata": {},
     "output_type": "execute_result"
    }
   ],
   "source": [
    "%%time\n",
    "pipe_rf_num.fit(X_train_num, y_train_num)\n",
    "pipe_rf_num.score(X_train_num, y_train_num), pipe_rf_num.score(X_test_num, y_test_num)"
   ]
  },
  {
   "cell_type": "markdown",
   "id": "6e8fdebb-f459-4f9a-9643-b49106516d28",
   "metadata": {
    "tags": []
   },
   "source": [
    "#### So scaling did help. Going to see if I can reduce `min_samples_leaf` and increase accuracy."
   ]
  },
  {
   "cell_type": "code",
   "execution_count": 81,
   "id": "45e88940-ee64-4b9d-a489-f72ca91f9376",
   "metadata": {},
   "outputs": [
    {
     "name": "stdout",
     "output_type": "stream",
     "text": [
      "CPU times: user 18min 24s, sys: 12.4 s, total: 18min 36s\n",
      "Wall time: 5min 37s\n"
     ]
    },
    {
     "data": {
      "text/plain": [
       "(0.8334009100328873, 0.7548317340181105)"
      ]
     },
     "execution_count": 81,
     "metadata": {},
     "output_type": "execute_result"
    }
   ],
   "source": [
    "%%time\n",
    "cat_transformer = Pipeline([\n",
    "    ('squeeze', FunctionTransformer(lambda x: x.squeeze())),\n",
    "    ('tfidf', TfidfVectorizer(stop_words='english', ngram_range=(1,2), min_df=4, max_df=.09)),\n",
    "    ('toarray', FunctionTransformer(lambda x: x.toarray()))\n",
    "])\n",
    "preprocessor = ColumnTransformer([\n",
    "        ('ss', StandardScaler(), ['spacy_unique_word_count']),\n",
    "        ('cat', cat_transformer, ['spacy']),\n",
    "    ])\n",
    "\n",
    "pipe_rf_num_ss = Pipeline([\n",
    "    ('preprocessor', preprocessor),\n",
    "    ('rf', RandomForestClassifier(random_state=5, n_jobs=-1, warm_start=True,\\\n",
    "                                  n_estimators=200, min_samples_leaf=3, max_depth=1000, criterion='gini'))\n",
    "])\n",
    "\n",
    "pipe_rf_num_ss.fit(X_train_num, y_train_num)\n",
    "pipe_rf_num_ss.score(X_train_num, y_train_num), pipe_rf_num.score(X_test_num, y_test_num)"
   ]
  },
  {
   "cell_type": "markdown",
   "id": "f8cc1ebb-bcfb-473c-85ae-cc68568644ea",
   "metadata": {},
   "source": [
    "#### Played around here a bit, the initial parameters held up as best."
   ]
  },
  {
   "cell_type": "code",
   "execution_count": 97,
   "id": "9e478cf4-cc63-4b34-b79e-dc34c7fb77e6",
   "metadata": {
    "tags": []
   },
   "outputs": [
    {
     "name": "stdout",
     "output_type": "stream",
     "text": [
      "CPU times: user 95 µs, sys: 1e+03 ns, total: 96 µs\n",
      "Wall time: 103 µs\n"
     ]
    },
    {
     "data": {
      "text/html": [
       "<style>#sk-container-id-7 {color: black;background-color: white;}#sk-container-id-7 pre{padding: 0;}#sk-container-id-7 div.sk-toggleable {background-color: white;}#sk-container-id-7 label.sk-toggleable__label {cursor: pointer;display: block;width: 100%;margin-bottom: 0;padding: 0.3em;box-sizing: border-box;text-align: center;}#sk-container-id-7 label.sk-toggleable__label-arrow:before {content: \"▸\";float: left;margin-right: 0.25em;color: #696969;}#sk-container-id-7 label.sk-toggleable__label-arrow:hover:before {color: black;}#sk-container-id-7 div.sk-estimator:hover label.sk-toggleable__label-arrow:before {color: black;}#sk-container-id-7 div.sk-toggleable__content {max-height: 0;max-width: 0;overflow: hidden;text-align: left;background-color: #f0f8ff;}#sk-container-id-7 div.sk-toggleable__content pre {margin: 0.2em;color: black;border-radius: 0.25em;background-color: #f0f8ff;}#sk-container-id-7 input.sk-toggleable__control:checked~div.sk-toggleable__content {max-height: 200px;max-width: 100%;overflow: auto;}#sk-container-id-7 input.sk-toggleable__control:checked~label.sk-toggleable__label-arrow:before {content: \"▾\";}#sk-container-id-7 div.sk-estimator input.sk-toggleable__control:checked~label.sk-toggleable__label {background-color: #d4ebff;}#sk-container-id-7 div.sk-label input.sk-toggleable__control:checked~label.sk-toggleable__label {background-color: #d4ebff;}#sk-container-id-7 input.sk-hidden--visually {border: 0;clip: rect(1px 1px 1px 1px);clip: rect(1px, 1px, 1px, 1px);height: 1px;margin: -1px;overflow: hidden;padding: 0;position: absolute;width: 1px;}#sk-container-id-7 div.sk-estimator {font-family: monospace;background-color: #f0f8ff;border: 1px dotted black;border-radius: 0.25em;box-sizing: border-box;margin-bottom: 0.5em;}#sk-container-id-7 div.sk-estimator:hover {background-color: #d4ebff;}#sk-container-id-7 div.sk-parallel-item::after {content: \"\";width: 100%;border-bottom: 1px solid gray;flex-grow: 1;}#sk-container-id-7 div.sk-label:hover label.sk-toggleable__label {background-color: #d4ebff;}#sk-container-id-7 div.sk-serial::before {content: \"\";position: absolute;border-left: 1px solid gray;box-sizing: border-box;top: 0;bottom: 0;left: 50%;z-index: 0;}#sk-container-id-7 div.sk-serial {display: flex;flex-direction: column;align-items: center;background-color: white;padding-right: 0.2em;padding-left: 0.2em;position: relative;}#sk-container-id-7 div.sk-item {position: relative;z-index: 1;}#sk-container-id-7 div.sk-parallel {display: flex;align-items: stretch;justify-content: center;background-color: white;position: relative;}#sk-container-id-7 div.sk-item::before, #sk-container-id-7 div.sk-parallel-item::before {content: \"\";position: absolute;border-left: 1px solid gray;box-sizing: border-box;top: 0;bottom: 0;left: 50%;z-index: -1;}#sk-container-id-7 div.sk-parallel-item {display: flex;flex-direction: column;z-index: 1;position: relative;background-color: white;}#sk-container-id-7 div.sk-parallel-item:first-child::after {align-self: flex-end;width: 50%;}#sk-container-id-7 div.sk-parallel-item:last-child::after {align-self: flex-start;width: 50%;}#sk-container-id-7 div.sk-parallel-item:only-child::after {width: 0;}#sk-container-id-7 div.sk-dashed-wrapped {border: 1px dashed gray;margin: 0 0.4em 0.5em 0.4em;box-sizing: border-box;padding-bottom: 0.4em;background-color: white;}#sk-container-id-7 div.sk-label label {font-family: monospace;font-weight: bold;display: inline-block;line-height: 1.2em;}#sk-container-id-7 div.sk-label-container {text-align: center;}#sk-container-id-7 div.sk-container {/* jupyter's `normalize.less` sets `[hidden] { display: none; }` but bootstrap.min.css set `[hidden] { display: none !important; }` so we also need the `!important` here to be able to override the default hidden behavior on the sphinx rendered scikit-learn.org. See: https://github.com/scikit-learn/scikit-learn/issues/21755 */display: inline-block !important;position: relative;}#sk-container-id-7 div.sk-text-repr-fallback {display: none;}</style><div id=\"sk-container-id-7\" class=\"sk-top-container\"><div class=\"sk-text-repr-fallback\"><pre>Pipeline(steps=[(&#x27;preprocessor&#x27;,\n",
       "                 ColumnTransformer(transformers=[(&#x27;ss&#x27;, StandardScaler(),\n",
       "                                                  [&#x27;spacy_unique_word_count&#x27;]),\n",
       "                                                 (&#x27;cat&#x27;,\n",
       "                                                  Pipeline(steps=[(&#x27;squeeze&#x27;,\n",
       "                                                                   FunctionTransformer(func=&lt;function squeeze at 0x7faf37da65e0&gt;)),\n",
       "                                                                  (&#x27;tfidf&#x27;,\n",
       "                                                                   TfidfVectorizer(max_df=0.09,\n",
       "                                                                                   min_df=4,\n",
       "                                                                                   ngram_range=(1,\n",
       "                                                                                                2),\n",
       "                                                                                   stop_words=&#x27;english&#x27;)),\n",
       "                                                                  (&#x27;toarray&#x27;,\n",
       "                                                                   FunctionTransformer(func=&lt;function _cs_matrix.toarray at 0x7faf3a4255e0&gt;))]),\n",
       "                                                  [&#x27;spacy&#x27;])])),\n",
       "                (&#x27;rf&#x27;,\n",
       "                 RandomForestClassifier(max_depth=500, min_samples_leaf=7,\n",
       "                                        n_estimators=200, n_jobs=-1,\n",
       "                                        random_state=5, warm_start=True))])</pre><b>In a Jupyter environment, please rerun this cell to show the HTML representation or trust the notebook. <br />On GitHub, the HTML representation is unable to render, please try loading this page with nbviewer.org.</b></div><div class=\"sk-container\" hidden><div class=\"sk-item sk-dashed-wrapped\"><div class=\"sk-label-container\"><div class=\"sk-label sk-toggleable\"><input class=\"sk-toggleable__control sk-hidden--visually\" id=\"sk-estimator-id-51\" type=\"checkbox\" ><label for=\"sk-estimator-id-51\" class=\"sk-toggleable__label sk-toggleable__label-arrow\">Pipeline</label><div class=\"sk-toggleable__content\"><pre>Pipeline(steps=[(&#x27;preprocessor&#x27;,\n",
       "                 ColumnTransformer(transformers=[(&#x27;ss&#x27;, StandardScaler(),\n",
       "                                                  [&#x27;spacy_unique_word_count&#x27;]),\n",
       "                                                 (&#x27;cat&#x27;,\n",
       "                                                  Pipeline(steps=[(&#x27;squeeze&#x27;,\n",
       "                                                                   FunctionTransformer(func=&lt;function squeeze at 0x7faf37da65e0&gt;)),\n",
       "                                                                  (&#x27;tfidf&#x27;,\n",
       "                                                                   TfidfVectorizer(max_df=0.09,\n",
       "                                                                                   min_df=4,\n",
       "                                                                                   ngram_range=(1,\n",
       "                                                                                                2),\n",
       "                                                                                   stop_words=&#x27;english&#x27;)),\n",
       "                                                                  (&#x27;toarray&#x27;,\n",
       "                                                                   FunctionTransformer(func=&lt;function _cs_matrix.toarray at 0x7faf3a4255e0&gt;))]),\n",
       "                                                  [&#x27;spacy&#x27;])])),\n",
       "                (&#x27;rf&#x27;,\n",
       "                 RandomForestClassifier(max_depth=500, min_samples_leaf=7,\n",
       "                                        n_estimators=200, n_jobs=-1,\n",
       "                                        random_state=5, warm_start=True))])</pre></div></div></div><div class=\"sk-serial\"><div class=\"sk-item sk-dashed-wrapped\"><div class=\"sk-label-container\"><div class=\"sk-label sk-toggleable\"><input class=\"sk-toggleable__control sk-hidden--visually\" id=\"sk-estimator-id-52\" type=\"checkbox\" ><label for=\"sk-estimator-id-52\" class=\"sk-toggleable__label sk-toggleable__label-arrow\">preprocessor: ColumnTransformer</label><div class=\"sk-toggleable__content\"><pre>ColumnTransformer(transformers=[(&#x27;ss&#x27;, StandardScaler(),\n",
       "                                 [&#x27;spacy_unique_word_count&#x27;]),\n",
       "                                (&#x27;cat&#x27;,\n",
       "                                 Pipeline(steps=[(&#x27;squeeze&#x27;,\n",
       "                                                  FunctionTransformer(func=&lt;function squeeze at 0x7faf37da65e0&gt;)),\n",
       "                                                 (&#x27;tfidf&#x27;,\n",
       "                                                  TfidfVectorizer(max_df=0.09,\n",
       "                                                                  min_df=4,\n",
       "                                                                  ngram_range=(1,\n",
       "                                                                               2),\n",
       "                                                                  stop_words=&#x27;english&#x27;)),\n",
       "                                                 (&#x27;toarray&#x27;,\n",
       "                                                  FunctionTransformer(func=&lt;function _cs_matrix.toarray at 0x7faf3a4255e0&gt;))]),\n",
       "                                 [&#x27;spacy&#x27;])])</pre></div></div></div><div class=\"sk-parallel\"><div class=\"sk-parallel-item\"><div class=\"sk-item\"><div class=\"sk-label-container\"><div class=\"sk-label sk-toggleable\"><input class=\"sk-toggleable__control sk-hidden--visually\" id=\"sk-estimator-id-53\" type=\"checkbox\" ><label for=\"sk-estimator-id-53\" class=\"sk-toggleable__label sk-toggleable__label-arrow\">ss</label><div class=\"sk-toggleable__content\"><pre>[&#x27;spacy_unique_word_count&#x27;]</pre></div></div></div><div class=\"sk-serial\"><div class=\"sk-item\"><div class=\"sk-estimator sk-toggleable\"><input class=\"sk-toggleable__control sk-hidden--visually\" id=\"sk-estimator-id-54\" type=\"checkbox\" ><label for=\"sk-estimator-id-54\" class=\"sk-toggleable__label sk-toggleable__label-arrow\">StandardScaler</label><div class=\"sk-toggleable__content\"><pre>StandardScaler()</pre></div></div></div></div></div></div><div class=\"sk-parallel-item\"><div class=\"sk-item\"><div class=\"sk-label-container\"><div class=\"sk-label sk-toggleable\"><input class=\"sk-toggleable__control sk-hidden--visually\" id=\"sk-estimator-id-55\" type=\"checkbox\" ><label for=\"sk-estimator-id-55\" class=\"sk-toggleable__label sk-toggleable__label-arrow\">cat</label><div class=\"sk-toggleable__content\"><pre>[&#x27;spacy&#x27;]</pre></div></div></div><div class=\"sk-serial\"><div class=\"sk-item\"><div class=\"sk-serial\"><div class=\"sk-item\"><div class=\"sk-estimator sk-toggleable\"><input class=\"sk-toggleable__control sk-hidden--visually\" id=\"sk-estimator-id-56\" type=\"checkbox\" ><label for=\"sk-estimator-id-56\" class=\"sk-toggleable__label sk-toggleable__label-arrow\">FunctionTransformer</label><div class=\"sk-toggleable__content\"><pre>FunctionTransformer(func=&lt;function squeeze at 0x7faf37da65e0&gt;)</pre></div></div></div><div class=\"sk-item\"><div class=\"sk-estimator sk-toggleable\"><input class=\"sk-toggleable__control sk-hidden--visually\" id=\"sk-estimator-id-57\" type=\"checkbox\" ><label for=\"sk-estimator-id-57\" class=\"sk-toggleable__label sk-toggleable__label-arrow\">TfidfVectorizer</label><div class=\"sk-toggleable__content\"><pre>TfidfVectorizer(max_df=0.09, min_df=4, ngram_range=(1, 2), stop_words=&#x27;english&#x27;)</pre></div></div></div><div class=\"sk-item\"><div class=\"sk-estimator sk-toggleable\"><input class=\"sk-toggleable__control sk-hidden--visually\" id=\"sk-estimator-id-58\" type=\"checkbox\" ><label for=\"sk-estimator-id-58\" class=\"sk-toggleable__label sk-toggleable__label-arrow\">FunctionTransformer</label><div class=\"sk-toggleable__content\"><pre>FunctionTransformer(func=&lt;function _cs_matrix.toarray at 0x7faf3a4255e0&gt;)</pre></div></div></div></div></div></div></div></div></div></div><div class=\"sk-item\"><div class=\"sk-estimator sk-toggleable\"><input class=\"sk-toggleable__control sk-hidden--visually\" id=\"sk-estimator-id-59\" type=\"checkbox\" ><label for=\"sk-estimator-id-59\" class=\"sk-toggleable__label sk-toggleable__label-arrow\">RandomForestClassifier</label><div class=\"sk-toggleable__content\"><pre>RandomForestClassifier(max_depth=500, min_samples_leaf=7, n_estimators=200,\n",
       "                       n_jobs=-1, random_state=5, warm_start=True)</pre></div></div></div></div></div></div></div>"
      ],
      "text/plain": [
       "Pipeline(steps=[('preprocessor',\n",
       "                 ColumnTransformer(transformers=[('ss', StandardScaler(),\n",
       "                                                  ['spacy_unique_word_count']),\n",
       "                                                 ('cat',\n",
       "                                                  Pipeline(steps=[('squeeze',\n",
       "                                                                   FunctionTransformer(func=<function squeeze at 0x7faf37da65e0>)),\n",
       "                                                                  ('tfidf',\n",
       "                                                                   TfidfVectorizer(max_df=0.09,\n",
       "                                                                                   min_df=4,\n",
       "                                                                                   ngram_range=(1,\n",
       "                                                                                                2),\n",
       "                                                                                   stop_words='english')),\n",
       "                                                                  ('toarray',\n",
       "                                                                   FunctionTransformer(func=<function _cs_matrix.toarray at 0x7faf3a4255e0>))]),\n",
       "                                                  ['spacy'])])),\n",
       "                ('rf',\n",
       "                 RandomForestClassifier(max_depth=500, min_samples_leaf=7,\n",
       "                                        n_estimators=200, n_jobs=-1,\n",
       "                                        random_state=5, warm_start=True))])"
      ]
     },
     "execution_count": 97,
     "metadata": {},
     "output_type": "execute_result"
    }
   ],
   "source": [
    "%%time\n",
    "from scipy.sparse import csr_matrix # can't pickle lambda functions, so had to import this and pass to FunctionTransformer\n",
    "cat_transformer = Pipeline([\n",
    "    ('squeeze', FunctionTransformer(np.squeeze)),\n",
    "    ('tfidf', TfidfVectorizer(stop_words='english', ngram_range=(1,2), min_df=4, max_df=.09)),\n",
    "    ('toarray', FunctionTransformer(csr_matrix.toarray))\n",
    "])\n",
    "preprocessor = ColumnTransformer([\n",
    "        ('ss', StandardScaler(), ['spacy_unique_word_count']),\n",
    "        ('cat', cat_transformer, ['spacy']),\n",
    "    ])\n",
    "\n",
    "pipe_rf_num_ss = Pipeline([\n",
    "    ('preprocessor', preprocessor),\n",
    "    ('rf', RandomForestClassifier(random_state=5, n_jobs=-1, warm_start=True,\\\n",
    "                                  n_estimators=200, min_samples_leaf=7, max_depth=500, criterion='gini'))\n",
    "])\n",
    "\n",
    "pipe_rf_num_ss"
   ]
  },
  {
   "cell_type": "code",
   "execution_count": 98,
   "id": "76a79b8c-b5e8-4404-adaf-31f0d70b694c",
   "metadata": {},
   "outputs": [
    {
     "name": "stdout",
     "output_type": "stream",
     "text": [
      "CPU times: user 14min 31s, sys: 10.4 s, total: 14min 42s\n",
      "Wall time: 4min 25s\n"
     ]
    },
    {
     "data": {
      "text/plain": [
       "(0.7836194080281119, 0.7672658467360454)"
      ]
     },
     "execution_count": 98,
     "metadata": {},
     "output_type": "execute_result"
    }
   ],
   "source": [
    "%%time\n",
    "pipe_rf_num_ss.fit(X_train_num, y_train_num)\n",
    "pipe_rf_num_ss.score(X_train_num, y_train_num), pipe_rf_num_ss.score(X_test_num, y_test_num)"
   ]
  },
  {
   "cell_type": "markdown",
   "id": "4437437f-d72d-4815-b894-78daf98c39a3",
   "metadata": {},
   "source": [
    "#### Saving this as the best model"
   ]
  },
  {
   "cell_type": "code",
   "execution_count": 99,
   "id": "5539fafb-9300-4a6d-acda-8bd62fdc34ba",
   "metadata": {},
   "outputs": [],
   "source": [
    "with open('../output/best_model.pkl', 'wb') as f:\n",
    "    pickle.dump(pipe_rf_num_ss, f)"
   ]
  },
  {
   "cell_type": "markdown",
   "id": "2385a24b-380c-42be-b04b-b5952cbd84da",
   "metadata": {},
   "source": [
    "#### Let's look at the confusion matrix and pull out some successful cases."
   ]
  },
  {
   "cell_type": "code",
   "execution_count": 110,
   "id": "9adde426-f48a-46f4-b952-c44cd9e0b690",
   "metadata": {},
   "outputs": [
    {
     "data": {
      "image/png": "[encoded data removed]",
      "text/plain": [
       "<Figure size 720x720 with 2 Axes>"
      ]
     },
     "metadata": {
      "needs_background": "light"
     },
     "output_type": "display_data"
    }
   ],
   "source": [
    "fig, ax = plt.subplots(figsize=(10,10))\n",
    "y_pred = pipe_rf_num_ss.predict(X_test_num)\n",
    "ConfusionMatrixDisplay.from_predictions(y_test_num, y_pred, ax=ax)\n",
    "plt.title('Confusion Matrix, Random Forest model');"
   ]
  },
  {
   "cell_type": "code",
   "execution_count": 188,
   "id": "f0e5da5b-cb40-4de0-8802-158d5c887055",
   "metadata": {},
   "outputs": [
    {
     "data": {
      "text/plain": [
       "0.5232288037166086"
      ]
     },
     "execution_count": 188,
     "metadata": {},
     "output_type": "execute_result"
    }
   ],
   "source": [
    "901/(821+901)"
   ]
  },
  {
   "cell_type": "markdown",
   "id": "893e7308-f821-4264-80f7-2055b8162134",
   "metadata": {},
   "source": [
    "#### Slightly more AskReddit predictions than NoStupidQuestions, but the difference is very close to the initial distribution of the population."
   ]
  },
  {
   "cell_type": "markdown",
   "id": "6f0ada4c-f044-42ab-a6b5-a414e4df586d",
   "metadata": {},
   "source": [
    "#### Looking at examples of successes/failures"
   ]
  },
  {
   "cell_type": "code",
   "execution_count": 211,
   "id": "b05f64b8-c66f-4b7c-9574-b80daa1b60de",
   "metadata": {},
   "outputs": [
    {
     "data": {
      "text/html": [
       "<div>\n",
       "<style scoped>\n",
       "    .dataframe tbody tr th:only-of-type {\n",
       "        vertical-align: middle;\n",
       "    }\n",
       "\n",
       "    .dataframe tbody tr th {\n",
       "        vertical-align: top;\n",
       "    }\n",
       "\n",
       "    .dataframe thead th {\n",
       "        text-align: right;\n",
       "    }\n",
       "</style>\n",
       "<table border=\"1\" class=\"dataframe\">\n",
       "  <thead>\n",
       "    <tr style=\"text-align: right;\">\n",
       "      <th></th>\n",
       "      <th>spacy</th>\n",
       "      <th>spacy_unique_word_count</th>\n",
       "      <th>subreddit</th>\n",
       "    </tr>\n",
       "  </thead>\n",
       "  <tbody>\n",
       "    <tr>\n",
       "      <th>28948</th>\n",
       "      <td>ZkSync crypto airdrop</td>\n",
       "      <td>3</td>\n",
       "      <td>AskReddit</td>\n",
       "    </tr>\n",
       "    <tr>\n",
       "      <th>19217</th>\n",
       "      <td>want to brag about for a while but just not ha...</td>\n",
       "      <td>13</td>\n",
       "      <td>AskReddit</td>\n",
       "    </tr>\n",
       "    <tr>\n",
       "      <th>5554</th>\n",
       "      <td>why not the counterfeiting of US Currency More...</td>\n",
       "      <td>53</td>\n",
       "      <td>NoStupidQuestions</td>\n",
       "    </tr>\n",
       "    <tr>\n",
       "      <th>20086</th>\n",
       "      <td>serious as an adult how deal with a parent an ...</td>\n",
       "      <td>12</td>\n",
       "      <td>AskReddit</td>\n",
       "    </tr>\n",
       "    <tr>\n",
       "      <th>12969</th>\n",
       "      <td>why people watch Mukbangs      seriously get n...</td>\n",
       "      <td>27</td>\n",
       "      <td>NoStupidQuestions</td>\n",
       "    </tr>\n",
       "    <tr>\n",
       "      <th>7020</th>\n",
       "      <td>girl smart than Boys but why boy pay more than...</td>\n",
       "      <td>15</td>\n",
       "      <td>NoStupidQuestions</td>\n",
       "    </tr>\n",
       "    <tr>\n",
       "      <th>3984</th>\n",
       "      <td>why not people allow to use self defense again...</td>\n",
       "      <td>59</td>\n",
       "      <td>NoStupidQuestions</td>\n",
       "    </tr>\n",
       "    <tr>\n",
       "      <th>19976</th>\n",
       "      <td>paramedic bad story from album</td>\n",
       "      <td>5</td>\n",
       "      <td>AskReddit</td>\n",
       "    </tr>\n",
       "    <tr>\n",
       "      <th>1898</th>\n",
       "      <td>how deal with the pain of u recruit love      ...</td>\n",
       "      <td>36</td>\n",
       "      <td>NoStupidQuestions</td>\n",
       "    </tr>\n",
       "    <tr>\n",
       "      <th>16070</th>\n",
       "      <td>how to Reddit for dummies?!🥲</td>\n",
       "      <td>5</td>\n",
       "      <td>AskReddit</td>\n",
       "    </tr>\n",
       "    <tr>\n",
       "      <th>23355</th>\n",
       "      <td>if swap gender for a day do</td>\n",
       "      <td>7</td>\n",
       "      <td>AskReddit</td>\n",
       "    </tr>\n",
       "    <tr>\n",
       "      <th>9060</th>\n",
       "      <td>wrong that ashamed to bear a brown man from a ...</td>\n",
       "      <td>30</td>\n",
       "      <td>NoStupidQuestions</td>\n",
       "    </tr>\n",
       "    <tr>\n",
       "      <th>22561</th>\n",
       "      <td>serious a story about not survive</td>\n",
       "      <td>6</td>\n",
       "      <td>AskReddit</td>\n",
       "    </tr>\n",
       "    <tr>\n",
       "      <th>12557</th>\n",
       "      <td>why Japan consistently average over % of physi...</td>\n",
       "      <td>17</td>\n",
       "      <td>NoStupidQuestions</td>\n",
       "    </tr>\n",
       "    <tr>\n",
       "      <th>29260</th>\n",
       "      <td>why always the people with pronoun in bio offe...</td>\n",
       "      <td>10</td>\n",
       "      <td>AskReddit</td>\n",
       "    </tr>\n",
       "    <tr>\n",
       "      <th>12487</th>\n",
       "      <td>healthy outlet to express feminine side as a g...</td>\n",
       "      <td>29</td>\n",
       "      <td>NoStupidQuestions</td>\n",
       "    </tr>\n",
       "    <tr>\n",
       "      <th>3670</th>\n",
       "      <td>drunk enhance the sexual experience      a yea...</td>\n",
       "      <td>44</td>\n",
       "      <td>NoStupidQuestions</td>\n",
       "    </tr>\n",
       "    <tr>\n",
       "      <th>26111</th>\n",
       "      <td>employ redditor date a coworker why or why not...</td>\n",
       "      <td>8</td>\n",
       "      <td>AskReddit</td>\n",
       "    </tr>\n",
       "    <tr>\n",
       "      <th>7869</th>\n",
       "      <td>Equator Forests / jungle      why area directl...</td>\n",
       "      <td>29</td>\n",
       "      <td>NoStupidQuestions</td>\n",
       "    </tr>\n",
       "    <tr>\n",
       "      <th>16350</th>\n",
       "      <td>the funniest way to die</td>\n",
       "      <td>5</td>\n",
       "      <td>AskReddit</td>\n",
       "    </tr>\n",
       "  </tbody>\n",
       "</table>\n",
       "</div>"
      ],
      "text/plain": [
       "                                                   spacy  \\\n",
       "28948                         ZkSync crypto airdrop        \n",
       "19217  want to brag about for a while but just not ha...   \n",
       "5554   why not the counterfeiting of US Currency More...   \n",
       "20086  serious as an adult how deal with a parent an ...   \n",
       "12969  why people watch Mukbangs      seriously get n...   \n",
       "7020   girl smart than Boys but why boy pay more than...   \n",
       "3984   why not people allow to use self defense again...   \n",
       "19976                paramedic bad story from album        \n",
       "1898   how deal with the pain of u recruit love      ...   \n",
       "16070                  how to Reddit for dummies?!🥲        \n",
       "23355                   if swap gender for a day do        \n",
       "9060   wrong that ashamed to bear a brown man from a ...   \n",
       "22561             serious a story about not survive        \n",
       "12557  why Japan consistently average over % of physi...   \n",
       "29260  why always the people with pronoun in bio offe...   \n",
       "12487  healthy outlet to express feminine side as a g...   \n",
       "3670   drunk enhance the sexual experience      a yea...   \n",
       "26111  employ redditor date a coworker why or why not...   \n",
       "7869   Equator Forests / jungle      why area directl...   \n",
       "16350                       the funniest way to die        \n",
       "\n",
       "       spacy_unique_word_count          subreddit  \n",
       "28948                        3          AskReddit  \n",
       "19217                       13          AskReddit  \n",
       "5554                        53  NoStupidQuestions  \n",
       "20086                       12          AskReddit  \n",
       "12969                       27  NoStupidQuestions  \n",
       "7020                        15  NoStupidQuestions  \n",
       "3984                        59  NoStupidQuestions  \n",
       "19976                        5          AskReddit  \n",
       "1898                        36  NoStupidQuestions  \n",
       "16070                        5          AskReddit  \n",
       "23355                        7          AskReddit  \n",
       "9060                        30  NoStupidQuestions  \n",
       "22561                        6          AskReddit  \n",
       "12557                       17  NoStupidQuestions  \n",
       "29260                       10          AskReddit  \n",
       "12487                       29  NoStupidQuestions  \n",
       "3670                        44  NoStupidQuestions  \n",
       "26111                        8          AskReddit  \n",
       "7869                        29  NoStupidQuestions  \n",
       "16350                        5          AskReddit  "
      ]
     },
     "execution_count": 211,
     "metadata": {},
     "output_type": "execute_result"
    }
   ],
   "source": [
    "y_pred = pd.DataFrame(y_pred, columns=['prediction'], index=y_test.index)\n",
    "rf_out = pd.concat([y_test_num,y_pred], axis=1)\n",
    "pd.concat([X_test_num[rf_out['subreddit']==rf_out['prediction']], \\\n",
    "                 y_test_num[rf_out['subreddit']==rf_out['prediction']]], axis=1).head(20)"
   ]
  },
  {
   "cell_type": "code",
   "execution_count": 207,
   "id": "241be007-12c9-4b73-876e-515f9ecc83ff",
   "metadata": {},
   "outputs": [
    {
     "data": {
      "text/plain": [
       "\"Why do people watch Mukbangs?     I seriously get nauseous just looking at the thumbnails for these videos. And from what I know, the videos themselves are super messy. I just don't see what type of entertainment people get out of these videos.\""
      ]
     },
     "execution_count": 207,
     "metadata": {},
     "output_type": "execute_result"
    }
   ],
   "source": [
    "data['text'][12969]"
   ]
  },
  {
   "cell_type": "code",
   "execution_count": 213,
   "id": "90aa7b0a-1cd3-4d5f-a16e-d87b349f2552",
   "metadata": {},
   "outputs": [
    {
     "data": {
      "text/plain": [
       "\"What's the funniest way to die?     \""
      ]
     },
     "execution_count": 213,
     "metadata": {},
     "output_type": "execute_result"
    }
   ],
   "source": [
    "data['text'][16350]"
   ]
  },
  {
   "cell_type": "code",
   "execution_count": 203,
   "id": "9b2000be-6467-4925-87b1-8cdd5fafcd59",
   "metadata": {},
   "outputs": [
    {
     "data": {
      "text/html": [
       "<div>\n",
       "<style scoped>\n",
       "    .dataframe tbody tr th:only-of-type {\n",
       "        vertical-align: middle;\n",
       "    }\n",
       "\n",
       "    .dataframe tbody tr th {\n",
       "        vertical-align: top;\n",
       "    }\n",
       "\n",
       "    .dataframe thead th {\n",
       "        text-align: right;\n",
       "    }\n",
       "</style>\n",
       "<table border=\"1\" class=\"dataframe\">\n",
       "  <thead>\n",
       "    <tr style=\"text-align: right;\">\n",
       "      <th></th>\n",
       "      <th>spacy</th>\n",
       "      <th>spacy_unique_word_count</th>\n",
       "      <th>subreddit</th>\n",
       "    </tr>\n",
       "  </thead>\n",
       "  <tbody>\n",
       "    <tr>\n",
       "      <th>19161</th>\n",
       "      <td>hey need Twitter follower increase help</td>\n",
       "      <td>6</td>\n",
       "      <td>AskReddit</td>\n",
       "    </tr>\n",
       "    <tr>\n",
       "      <th>13196</th>\n",
       "      <td>how repulsive man rape to woman</td>\n",
       "      <td>6</td>\n",
       "      <td>NoStupidQuestions</td>\n",
       "    </tr>\n",
       "    <tr>\n",
       "      <th>10480</th>\n",
       "      <td>when cheating happen the fault of the married ...</td>\n",
       "      <td>10</td>\n",
       "      <td>NoStupidQuestions</td>\n",
       "    </tr>\n",
       "    <tr>\n",
       "      <th>11483</th>\n",
       "      <td>why the song Toy Box Tarzan and Jane stick in ...</td>\n",
       "      <td>11</td>\n",
       "      <td>NoStupidQuestions</td>\n",
       "    </tr>\n",
       "    <tr>\n",
       "      <th>29523</th>\n",
       "      <td>[ serious ] how a person go about legally and ...</td>\n",
       "      <td>18</td>\n",
       "      <td>AskReddit</td>\n",
       "    </tr>\n",
       "    <tr>\n",
       "      <th>...</th>\n",
       "      <td>...</td>\n",
       "      <td>...</td>\n",
       "      <td>...</td>\n",
       "    </tr>\n",
       "    <tr>\n",
       "      <th>8538</th>\n",
       "      <td>why hate pinapple on pizza      love</td>\n",
       "      <td>6</td>\n",
       "      <td>NoStupidQuestions</td>\n",
       "    </tr>\n",
       "    <tr>\n",
       "      <th>24508</th>\n",
       "      <td>view on the male social hierarchy e.g Sigma be...</td>\n",
       "      <td>11</td>\n",
       "      <td>AskReddit</td>\n",
       "    </tr>\n",
       "    <tr>\n",
       "      <th>10846</th>\n",
       "      <td>why do gay man like short guy</td>\n",
       "      <td>7</td>\n",
       "      <td>NoStupidQuestions</td>\n",
       "    </tr>\n",
       "    <tr>\n",
       "      <th>12212</th>\n",
       "      <td>some red flag when meet new</td>\n",
       "      <td>6</td>\n",
       "      <td>NoStupidQuestions</td>\n",
       "    </tr>\n",
       "    <tr>\n",
       "      <th>19199</th>\n",
       "      <td>ever use the app Fake gps</td>\n",
       "      <td>6</td>\n",
       "      <td>AskReddit</td>\n",
       "    </tr>\n",
       "  </tbody>\n",
       "</table>\n",
       "<p>1722 rows × 3 columns</p>\n",
       "</div>"
      ],
      "text/plain": [
       "                                                   spacy  \\\n",
       "19161       hey need Twitter follower increase help        \n",
       "13196               how repulsive man rape to woman        \n",
       "10480  when cheating happen the fault of the married ...   \n",
       "11483  why the song Toy Box Tarzan and Jane stick in ...   \n",
       "29523  [ serious ] how a person go about legally and ...   \n",
       "...                                                  ...   \n",
       "8538                why hate pinapple on pizza      love   \n",
       "24508  view on the male social hierarchy e.g Sigma be...   \n",
       "10846                 why do gay man like short guy        \n",
       "12212                   some red flag when meet new        \n",
       "19199                     ever use the app Fake gps        \n",
       "\n",
       "       spacy_unique_word_count          subreddit  \n",
       "19161                        6          AskReddit  \n",
       "13196                        6  NoStupidQuestions  \n",
       "10480                       10  NoStupidQuestions  \n",
       "11483                       11  NoStupidQuestions  \n",
       "29523                       18          AskReddit  \n",
       "...                        ...                ...  \n",
       "8538                         6  NoStupidQuestions  \n",
       "24508                       11          AskReddit  \n",
       "10846                        7  NoStupidQuestions  \n",
       "12212                        6  NoStupidQuestions  \n",
       "19199                        6          AskReddit  \n",
       "\n",
       "[1722 rows x 3 columns]"
      ]
     },
     "execution_count": 203,
     "metadata": {},
     "output_type": "execute_result"
    }
   ],
   "source": [
    "pd.concat([X_test_num[rf_out['subreddit']!=rf_out['prediction']],\\\n",
    "           y_test_num[rf_out['subreddit']!=rf_out['prediction']]], axis=1)"
   ]
  },
  {
   "cell_type": "code",
   "execution_count": 208,
   "id": "12ff5c5a-c2be-47c6-884a-f4d308234116",
   "metadata": {},
   "outputs": [
    {
     "data": {
      "text/plain": [
       "'When cheating happens, is it the fault of the married man or the mistress?     '"
      ]
     },
     "execution_count": 208,
     "metadata": {},
     "output_type": "execute_result"
    }
   ],
   "source": [
    "data['text'][10480]"
   ]
  },
  {
   "cell_type": "code",
   "execution_count": 209,
   "id": "6a12315e-5985-459e-b2c1-677e3ca6e200",
   "metadata": {},
   "outputs": [
    {
     "data": {
      "text/plain": [
       "'What is your view on the male social hierarchy? (e.g, Sigma, beta and alpha male).     '"
      ]
     },
     "execution_count": 209,
     "metadata": {},
     "output_type": "execute_result"
    }
   ],
   "source": [
    "data['text'][24508]"
   ]
  },
  {
   "cell_type": "markdown",
   "id": "63e6b2ed-2446-452a-b9e3-d779dcf4b6f3",
   "metadata": {},
   "source": [
    "#### Getting most import features from the model"
   ]
  },
  {
   "cell_type": "code",
   "execution_count": 185,
   "id": "258b10c9-487e-44ef-9c9c-4a5d1bcf920f",
   "metadata": {},
   "outputs": [
    {
     "data": {
      "text/html": [
       "<div>\n",
       "<style scoped>\n",
       "    .dataframe tbody tr th:only-of-type {\n",
       "        vertical-align: middle;\n",
       "    }\n",
       "\n",
       "    .dataframe tbody tr th {\n",
       "        vertical-align: top;\n",
       "    }\n",
       "\n",
       "    .dataframe thead th {\n",
       "        text-align: right;\n",
       "    }\n",
       "</style>\n",
       "<table border=\"1\" class=\"dataframe\">\n",
       "  <thead>\n",
       "    <tr style=\"text-align: right;\">\n",
       "      <th></th>\n",
       "      <th>0</th>\n",
       "    </tr>\n",
       "  </thead>\n",
       "  <tbody>\n",
       "    <tr>\n",
       "      <th>spacy_unique_word_count</th>\n",
       "      <td>0.214312</td>\n",
       "    </tr>\n",
       "    <tr>\n",
       "      <th>reddit</th>\n",
       "      <td>0.028165</td>\n",
       "    </tr>\n",
       "    <tr>\n",
       "      <th>good</th>\n",
       "      <td>0.017278</td>\n",
       "    </tr>\n",
       "    <tr>\n",
       "      <th>thing</th>\n",
       "      <td>0.015590</td>\n",
       "    </tr>\n",
       "    <tr>\n",
       "      <th>mean</th>\n",
       "      <td>0.013641</td>\n",
       "    </tr>\n",
       "    <tr>\n",
       "      <th>say</th>\n",
       "      <td>0.013304</td>\n",
       "    </tr>\n",
       "    <tr>\n",
       "      <th>really</th>\n",
       "      <td>0.013071</td>\n",
       "    </tr>\n",
       "    <tr>\n",
       "      <th>use</th>\n",
       "      <td>0.012624</td>\n",
       "    </tr>\n",
       "    <tr>\n",
       "      <th>favorite</th>\n",
       "      <td>0.011867</td>\n",
       "    </tr>\n",
       "    <tr>\n",
       "      <th>work</th>\n",
       "      <td>0.010511</td>\n",
       "    </tr>\n",
       "    <tr>\n",
       "      <th>want</th>\n",
       "      <td>0.010416</td>\n",
       "    </tr>\n",
       "    <tr>\n",
       "      <th>think</th>\n",
       "      <td>0.010085</td>\n",
       "    </tr>\n",
       "    <tr>\n",
       "      <th>try</th>\n",
       "      <td>0.009604</td>\n",
       "    </tr>\n",
       "    <tr>\n",
       "      <th>movie</th>\n",
       "      <td>0.009263</td>\n",
       "    </tr>\n",
       "    <tr>\n",
       "      <th>lot</th>\n",
       "      <td>0.009069</td>\n",
       "    </tr>\n",
       "    <tr>\n",
       "      <th>time</th>\n",
       "      <td>0.009024</td>\n",
       "    </tr>\n",
       "    <tr>\n",
       "      <th>wonder</th>\n",
       "      <td>0.008191</td>\n",
       "    </tr>\n",
       "    <tr>\n",
       "      <th>life</th>\n",
       "      <td>0.006938</td>\n",
       "    </tr>\n",
       "    <tr>\n",
       "      <th>look</th>\n",
       "      <td>0.006549</td>\n",
       "    </tr>\n",
       "    <tr>\n",
       "      <th>able</th>\n",
       "      <td>0.006382</td>\n",
       "    </tr>\n",
       "  </tbody>\n",
       "</table>\n",
       "</div>"
      ],
      "text/plain": [
       "                                0\n",
       "spacy_unique_word_count  0.214312\n",
       "reddit                   0.028165\n",
       "good                     0.017278\n",
       "thing                    0.015590\n",
       "mean                     0.013641\n",
       "say                      0.013304\n",
       "really                   0.013071\n",
       "use                      0.012624\n",
       "favorite                 0.011867\n",
       "work                     0.010511\n",
       "want                     0.010416\n",
       "think                    0.010085\n",
       "try                      0.009604\n",
       "movie                    0.009263\n",
       "lot                      0.009069\n",
       "time                     0.009024\n",
       "wonder                   0.008191\n",
       "life                     0.006938\n",
       "look                     0.006549\n",
       "able                     0.006382"
      ]
     },
     "execution_count": 185,
     "metadata": {},
     "output_type": "execute_result"
    }
   ],
   "source": [
    "pd.DataFrame(pipe_rf_num_ss.named_steps.rf.feature_importances_,\\\n",
    "             index=['spacy_unique_word_count']+list(preprocessor.named_transformers_.cat[-2].get_feature_names_out())).sort_values(by=0, ascending=False).head(20)"
   ]
  },
  {
   "cell_type": "markdown",
   "id": "28ab2bc5-a621-49d8-b4a4-a103bc102b91",
   "metadata": {},
   "source": [
    "#### Compiling the train/test scores for all the models into a dataframe"
   ]
  },
  {
   "cell_type": "code",
   "execution_count": null,
   "id": "27a568f0-b62a-4ebb-8ece-b4f66d2d42e3",
   "metadata": {},
   "outputs": [],
   "source": [
    "models = np.array([['kNN',gs_knn], ['Naive Bayes', gs_nb], ['Logistic Regression', gs_logreg], ['Random Forest', pipe_rf_num_ss]]).reshape(4,2)\n",
    "models[:,0]\n",
    "train_scores = []\n",
    "test_scores = []\n",
    "for model in models:\n",
    "    if model[0] != 'Random Forest':\n",
    "        train_scores.append(model[1].score(X_train, y_train))\n",
    "        test_scores.append(model[1].score(X_test, y_test))\n",
    "    else:\n",
    "        train_scores.append(model[1].score(X_train_num, y_train_num))\n",
    "        test_scores.append(model[1].score(X_test_num, y_test_num)) "
   ]
  },
  {
   "cell_type": "code",
   "execution_count": 178,
   "id": "5ddb4250-92e8-4d38-8505-33976cf0f0d8",
   "metadata": {},
   "outputs": [
    {
     "data": {
      "text/html": [
       "<div>\n",
       "<style scoped>\n",
       "    .dataframe tbody tr th:only-of-type {\n",
       "        vertical-align: middle;\n",
       "    }\n",
       "\n",
       "    .dataframe tbody tr th {\n",
       "        vertical-align: top;\n",
       "    }\n",
       "\n",
       "    .dataframe thead th {\n",
       "        text-align: right;\n",
       "    }\n",
       "</style>\n",
       "<table border=\"1\" class=\"dataframe\">\n",
       "  <thead>\n",
       "    <tr style=\"text-align: right;\">\n",
       "      <th></th>\n",
       "      <th>train_scores</th>\n",
       "      <th>test_scores</th>\n",
       "    </tr>\n",
       "    <tr>\n",
       "      <th>model</th>\n",
       "      <th></th>\n",
       "      <th></th>\n",
       "    </tr>\n",
       "  </thead>\n",
       "  <tbody>\n",
       "    <tr>\n",
       "      <th>kNN</th>\n",
       "      <td>0.994</td>\n",
       "      <td>0.531</td>\n",
       "    </tr>\n",
       "    <tr>\n",
       "      <th>Naive Bayes</th>\n",
       "      <td>0.843</td>\n",
       "      <td>0.741</td>\n",
       "    </tr>\n",
       "    <tr>\n",
       "      <th>Logistic Regression</th>\n",
       "      <td>0.888</td>\n",
       "      <td>0.762</td>\n",
       "    </tr>\n",
       "    <tr>\n",
       "      <th>Random Forest</th>\n",
       "      <td>0.784</td>\n",
       "      <td>0.767</td>\n",
       "    </tr>\n",
       "  </tbody>\n",
       "</table>\n",
       "</div>"
      ],
      "text/plain": [
       "                     train_scores  test_scores\n",
       "model                                         \n",
       "kNN                         0.994        0.531\n",
       "Naive Bayes                 0.843        0.741\n",
       "Logistic Regression         0.888        0.762\n",
       "Random Forest               0.784        0.767"
      ]
     },
     "execution_count": 178,
     "metadata": {},
     "output_type": "execute_result"
    }
   ],
   "source": [
    "df = pd.DataFrame({\n",
    "    'model': models[:,0],\n",
    "    'train_scores': train_scores,\n",
    "    'test_scores': test_scores,\n",
    "})\n",
    "\n",
    "df.set_index('model', drop=True).round(3)"
   ]
  }
 ],
 "metadata": {
  "kernelspec": {
   "display_name": "Python 3 (ipykernel)",
   "language": "python",
   "name": "python3"
  },
  "language_info": {
   "codemirror_mode": {
    "name": "ipython",
    "version": 3
   },
   "file_extension": ".py",
   "mimetype": "text/x-python",
   "name": "python",
   "nbconvert_exporter": "python",
   "pygments_lexer": "ipython3",
   "version": "3.8.8"
  }
 },
 "nbformat": 4,
 "nbformat_minor": 5
}
